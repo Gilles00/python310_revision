{
 "cells": [
  {
   "cell_type": "code",
   "execution_count": 5,
   "id": "18d6217e-f431-4a5e-b1e7-37bb60f7f5fb",
   "metadata": {
    "tags": []
   },
   "outputs": [],
   "source": [
    "message1 = \"Hello Nagasha\""
   ]
  },
  {
   "cell_type": "code",
   "execution_count": 9,
   "id": "36388be4-d23d-4655-a520-950a61c6b187",
   "metadata": {
    "tags": []
   },
   "outputs": [
    {
     "name": "stdout",
     "output_type": "stream",
     "text": [
      "Hello Nagasha\n"
     ]
    }
   ],
   "source": [
    "print(message1)"
   ]
  },
  {
   "cell_type": "code",
   "execution_count": 11,
   "id": "147ba311-f2e4-44e6-870e-b2e211dade56",
   "metadata": {
    "tags": []
   },
   "outputs": [],
   "source": [
    "message2 = \"Nagasha's first name is Phionah\""
   ]
  },
  {
   "cell_type": "code",
   "execution_count": 13,
   "id": "3386aee1-2e51-42b3-8943-c3cfe858b390",
   "metadata": {
    "tags": []
   },
   "outputs": [
    {
     "name": "stdout",
     "output_type": "stream",
     "text": [
      "Nagasha's first name is Phionah\n"
     ]
    }
   ],
   "source": [
    "print(message2)"
   ]
  },
  {
   "cell_type": "code",
   "execution_count": 15,
   "id": "7875a320-1dae-4bda-8b34-e7afa71ff586",
   "metadata": {
    "tags": []
   },
   "outputs": [],
   "source": [
    "message3 = \"Nagasha's first name is 'Phionah'\""
   ]
  },
  {
   "cell_type": "code",
   "execution_count": 17,
   "id": "25200e25-f22f-443f-a057-d1dc4bfb02b1",
   "metadata": {
    "tags": []
   },
   "outputs": [
    {
     "name": "stdout",
     "output_type": "stream",
     "text": [
      "Nagasha's first name is 'Phionah'\n"
     ]
    }
   ],
   "source": [
    "print(message3)"
   ]
  },
  {
   "cell_type": "code",
   "execution_count": 27,
   "id": "97210da0-ef0c-4694-b1d3-4c29336495cd",
   "metadata": {
    "tags": []
   },
   "outputs": [],
   "source": [
    "message4 = 'Nagasha\\'s first name is \"Phionah\"'"
   ]
  },
  {
   "cell_type": "code",
   "execution_count": 29,
   "id": "a866465d-a6ca-483a-9f56-f7adaaf72be1",
   "metadata": {
    "tags": []
   },
   "outputs": [
    {
     "name": "stdout",
     "output_type": "stream",
     "text": [
      "Nagasha's first name is \"Phionah\"\n"
     ]
    }
   ],
   "source": [
    "print(message4)"
   ]
  },
  {
   "cell_type": "code",
   "execution_count": 33,
   "id": "f430cb7f-4815-43fd-af3c-0571d4ee9f66",
   "metadata": {
    "tags": []
   },
   "outputs": [],
   "source": [
    "message5 = \"Nagasha's first name is \\\"Phionah\\\"\""
   ]
  },
  {
   "cell_type": "code",
   "execution_count": 35,
   "id": "589662c5-c129-44b5-af04-78f838af8c8e",
   "metadata": {
    "tags": []
   },
   "outputs": [
    {
     "name": "stdout",
     "output_type": "stream",
     "text": [
      "Nagasha's first name is \"Phionah\"\n"
     ]
    }
   ],
   "source": [
    "print(message5)"
   ]
  },
  {
   "cell_type": "code",
   "execution_count": 49,
   "id": "0e6fb7d3-b16d-4c4e-bdd6-cee962a5613f",
   "metadata": {
    "tags": []
   },
   "outputs": [],
   "source": [
    "message6 = \"\"\"Nagasha's first name is \"Phionah\" \"\"\""
   ]
  },
  {
   "cell_type": "code",
   "execution_count": 51,
   "id": "29946fa8-5cce-487d-9b04-48a7ed858952",
   "metadata": {
    "tags": []
   },
   "outputs": [
    {
     "name": "stdout",
     "output_type": "stream",
     "text": [
      "Nagasha's first name is \"Phionah\" \n"
     ]
    }
   ],
   "source": [
    "print(message6)"
   ]
  },
  {
   "cell_type": "code",
   "execution_count": 56,
   "id": "2403451c-3390-4286-b66b-7971df92abdf",
   "metadata": {
    "tags": []
   },
   "outputs": [
    {
     "data": {
      "text/plain": [
       "int"
      ]
     },
     "execution_count": 56,
     "metadata": {},
     "output_type": "execute_result"
    }
   ],
   "source": [
    "#Types of numbers: int, float, complex\n",
    "a = 4567 # This is a perfect number\n",
    "type(a)"
   ]
  },
  {
   "cell_type": "code",
   "execution_count": 58,
   "id": "14ed92ed-a0b3-4de0-ba9c-ed751766497a",
   "metadata": {
    "tags": []
   },
   "outputs": [
    {
     "data": {
      "text/plain": [
       "float"
      ]
     },
     "execution_count": 58,
     "metadata": {},
     "output_type": "execute_result"
    }
   ],
   "source": [
    "e = 2.34 #This is a float\n",
    "type(e)"
   ]
  },
  {
   "cell_type": "code",
   "execution_count": 62,
   "id": "df29ec8c-725e-4b47-85b5-088d83b413de",
   "metadata": {
    "tags": []
   },
   "outputs": [
    {
     "data": {
      "text/plain": [
       "complex"
      ]
     },
     "execution_count": 62,
     "metadata": {},
     "output_type": "execute_result"
    }
   ],
   "source": [
    "b = 24 - 6.1j #This is a complex number\n",
    "type(b)\n",
    "# b"
   ]
  },
  {
   "cell_type": "code",
   "execution_count": 64,
   "id": "52d945f5-b538-43a3-af88-08893863dede",
   "metadata": {
    "tags": []
   },
   "outputs": [
    {
     "data": {
      "text/plain": [
       "(24-6.1j)"
      ]
     },
     "execution_count": 64,
     "metadata": {},
     "output_type": "execute_result"
    }
   ],
   "source": [
    "b"
   ]
  },
  {
   "cell_type": "code",
   "execution_count": 68,
   "id": "2a6b556a-79ef-49d1-a88c-2c4c0f6fecae",
   "metadata": {
    "tags": []
   },
   "outputs": [
    {
     "data": {
      "text/plain": [
       "24.0"
      ]
     },
     "execution_count": 68,
     "metadata": {},
     "output_type": "execute_result"
    }
   ],
   "source": [
    "b.real\n",
    "# b.imag"
   ]
  },
  {
   "cell_type": "code",
   "execution_count": 70,
   "id": "f8d71e53-8398-473b-9425-dbfbd120f853",
   "metadata": {
    "tags": []
   },
   "outputs": [
    {
     "data": {
      "text/plain": [
       "-6.1"
      ]
     },
     "execution_count": 70,
     "metadata": {},
     "output_type": "execute_result"
    }
   ],
   "source": [
    "b.imag"
   ]
  },
  {
   "cell_type": "code",
   "execution_count": 78,
   "id": "0d36e8ba-9c1e-44bc-9cb8-1a2eebe6c20d",
   "metadata": {
    "tags": []
   },
   "outputs": [],
   "source": [
    "# Rules of Arithmatic\n",
    "# Their four operations we need to know here\n",
    "# operations: + - * /"
   ]
  },
  {
   "cell_type": "code",
   "execution_count": 80,
   "id": "34c2e835-6dba-48a3-9bb2-e01311b629a1",
   "metadata": {
    "tags": []
   },
   "outputs": [],
   "source": [
    "x = 28 # int\n",
    "y = 28.0 # float"
   ]
  },
  {
   "cell_type": "code",
   "execution_count": 82,
   "id": "6964163a-5bf8-43db-ba7c-9feac28814f0",
   "metadata": {
    "tags": []
   },
   "outputs": [
    {
     "data": {
      "text/plain": [
       "28.0"
      ]
     },
     "execution_count": 82,
     "metadata": {},
     "output_type": "execute_result"
    }
   ],
   "source": [
    "float(28)"
   ]
  },
  {
   "cell_type": "code",
   "execution_count": 84,
   "id": "89e82b3e-2e87-4745-84bc-3e827c186928",
   "metadata": {
    "tags": []
   },
   "outputs": [
    {
     "data": {
      "text/plain": [
       "3"
      ]
     },
     "execution_count": 84,
     "metadata": {},
     "output_type": "execute_result"
    }
   ],
   "source": [
    "int(3.14)"
   ]
  },
  {
   "cell_type": "code",
   "execution_count": 88,
   "id": "f3b322aa-cff1-424d-bd1f-29d0fc7748fd",
   "metadata": {
    "tags": []
   },
   "outputs": [],
   "source": [
    "# ints are narrower than floats\n",
    "# floats are wider than ints"
   ]
  },
  {
   "cell_type": "code",
   "execution_count": 92,
   "id": "8615642d-f85e-41e0-8e9b-55e805f052ef",
   "metadata": {
    "tags": []
   },
   "outputs": [
    {
     "data": {
      "text/plain": [
       "(1.783+0j)"
      ]
     },
     "execution_count": 92,
     "metadata": {},
     "output_type": "execute_result"
    }
   ],
   "source": [
    "# A float can be converted to a complex number but not vice versa\n",
    "m = 1.783 # float\n",
    "complex(m)"
   ]
  },
  {
   "cell_type": "code",
   "execution_count": 98,
   "id": "069f5b0b-09c0-49d1-9546-06f6f4416f75",
   "metadata": {
    "tags": []
   },
   "outputs": [],
   "source": [
    "# Floats are narrower than compex numbers\n",
    "# Complex numbers are wider than floats\n",
    "# Rule: Widen numbers take the big show in the arithmatic operation"
   ]
  },
  {
   "cell_type": "code",
   "execution_count": 100,
   "id": "02b29f7f-878f-4ed4-bd72-9483b5d03ca0",
   "metadata": {
    "tags": []
   },
   "outputs": [],
   "source": [
    "a = 4 # int\n",
    "b = 8.0 # float\n",
    "c = 16 - 2j"
   ]
  },
  {
   "cell_type": "code",
   "execution_count": 102,
   "id": "2b8bc847-a91f-4ab2-b0a5-ac92d2302ed3",
   "metadata": {
    "tags": []
   },
   "outputs": [],
   "source": [
    "# Arithmatic Operations\n",
    "j = a + a\n",
    "o = a - 1\n",
    "k = b + b\n",
    "l = a + b\n",
    "m = b + c\n",
    "n = c + c\n",
    "q = b / a\n",
    "p = a / a\n",
    "r = a % 3\n",
    "s = a // 3"
   ]
  },
  {
   "cell_type": "code",
   "execution_count": 108,
   "id": "fc0435a1-7fa1-40ff-8414-3c180ecdb8d2",
   "metadata": {
    "tags": []
   },
   "outputs": [
    {
     "data": {
      "text/plain": [
       "(8, 3, 16.0, 12.0, (24-2j), (32-4j), 2.0, 1.0, 1, 1)"
      ]
     },
     "execution_count": 108,
     "metadata": {},
     "output_type": "execute_result"
    }
   ],
   "source": [
    "j, o, k, l, m, n, q, p, r, s"
   ]
  },
  {
   "cell_type": "code",
   "execution_count": 110,
   "id": "0c484790-f0c2-4aa1-ade6-18230e89e4b7",
   "metadata": {
    "tags": []
   },
   "outputs": [
    {
     "data": {
      "text/plain": [
       "['In',\n",
       " 'NamespaceMagics',\n",
       " 'Out',\n",
       " '_',\n",
       " '_1',\n",
       " '_10',\n",
       " '_100',\n",
       " '_101',\n",
       " '_102',\n",
       " '_103',\n",
       " '_104',\n",
       " '_105',\n",
       " '_106',\n",
       " '_107',\n",
       " '_108',\n",
       " '_109',\n",
       " '_11',\n",
       " '_110',\n",
       " '_12',\n",
       " '_13',\n",
       " '_14',\n",
       " '_15',\n",
       " '_16',\n",
       " '_17',\n",
       " '_18',\n",
       " '_19',\n",
       " '_2',\n",
       " '_20',\n",
       " '_21',\n",
       " '_22',\n",
       " '_23',\n",
       " '_24',\n",
       " '_25',\n",
       " '_26',\n",
       " '_27',\n",
       " '_28',\n",
       " '_29',\n",
       " '_3',\n",
       " '_30',\n",
       " '_31',\n",
       " '_32',\n",
       " '_33',\n",
       " '_34',\n",
       " '_35',\n",
       " '_36',\n",
       " '_37',\n",
       " '_38',\n",
       " '_39',\n",
       " '_4',\n",
       " '_40',\n",
       " '_41',\n",
       " '_42',\n",
       " '_43',\n",
       " '_44',\n",
       " '_45',\n",
       " '_46',\n",
       " '_47',\n",
       " '_48',\n",
       " '_49',\n",
       " '_50',\n",
       " '_51',\n",
       " '_52',\n",
       " '_53',\n",
       " '_54',\n",
       " '_55',\n",
       " '_56',\n",
       " '_57',\n",
       " '_58',\n",
       " '_59',\n",
       " '_6',\n",
       " '_60',\n",
       " '_61',\n",
       " '_62',\n",
       " '_63',\n",
       " '_64',\n",
       " '_65',\n",
       " '_66',\n",
       " '_67',\n",
       " '_68',\n",
       " '_69',\n",
       " '_7',\n",
       " '_70',\n",
       " '_71',\n",
       " '_72',\n",
       " '_73',\n",
       " '_74',\n",
       " '_75',\n",
       " '_76',\n",
       " '_77',\n",
       " '_78',\n",
       " '_79',\n",
       " '_8',\n",
       " '_80',\n",
       " '_81',\n",
       " '_82',\n",
       " '_83',\n",
       " '_84',\n",
       " '_85',\n",
       " '_86',\n",
       " '_87',\n",
       " '_88',\n",
       " '_89',\n",
       " '_9',\n",
       " '_90',\n",
       " '_91',\n",
       " '_92',\n",
       " '_93',\n",
       " '_94',\n",
       " '_95',\n",
       " '_96',\n",
       " '_97',\n",
       " '_98',\n",
       " '_99',\n",
       " '__',\n",
       " '__K',\n",
       " '___',\n",
       " '__builtin__',\n",
       " '__builtins__',\n",
       " '__doc__',\n",
       " '__import__',\n",
       " '__ipywidgets',\n",
       " '__loader__',\n",
       " '__name__',\n",
       " '__np',\n",
       " '__package__',\n",
       " '__pandas',\n",
       " '__pd',\n",
       " '__pyspark',\n",
       " '__session__',\n",
       " '__spec__',\n",
       " '__tf',\n",
       " '__torch',\n",
       " '__xr',\n",
       " '_attempt_import',\n",
       " '_check_imported',\n",
       " '_dh',\n",
       " '_i',\n",
       " '_i1',\n",
       " '_i10',\n",
       " '_i100',\n",
       " '_i101',\n",
       " '_i102',\n",
       " '_i103',\n",
       " '_i104',\n",
       " '_i105',\n",
       " '_i106',\n",
       " '_i107',\n",
       " '_i108',\n",
       " '_i109',\n",
       " '_i11',\n",
       " '_i110',\n",
       " '_i12',\n",
       " '_i13',\n",
       " '_i14',\n",
       " '_i15',\n",
       " '_i16',\n",
       " '_i17',\n",
       " '_i18',\n",
       " '_i19',\n",
       " '_i2',\n",
       " '_i20',\n",
       " '_i21',\n",
       " '_i22',\n",
       " '_i23',\n",
       " '_i24',\n",
       " '_i25',\n",
       " '_i26',\n",
       " '_i27',\n",
       " '_i28',\n",
       " '_i29',\n",
       " '_i3',\n",
       " '_i30',\n",
       " '_i31',\n",
       " '_i32',\n",
       " '_i33',\n",
       " '_i34',\n",
       " '_i35',\n",
       " '_i36',\n",
       " '_i37',\n",
       " '_i38',\n",
       " '_i39',\n",
       " '_i4',\n",
       " '_i40',\n",
       " '_i41',\n",
       " '_i42',\n",
       " '_i43',\n",
       " '_i44',\n",
       " '_i45',\n",
       " '_i46',\n",
       " '_i47',\n",
       " '_i48',\n",
       " '_i49',\n",
       " '_i5',\n",
       " '_i50',\n",
       " '_i51',\n",
       " '_i52',\n",
       " '_i53',\n",
       " '_i54',\n",
       " '_i55',\n",
       " '_i56',\n",
       " '_i57',\n",
       " '_i58',\n",
       " '_i59',\n",
       " '_i6',\n",
       " '_i60',\n",
       " '_i61',\n",
       " '_i62',\n",
       " '_i63',\n",
       " '_i64',\n",
       " '_i65',\n",
       " '_i66',\n",
       " '_i67',\n",
       " '_i68',\n",
       " '_i69',\n",
       " '_i7',\n",
       " '_i70',\n",
       " '_i71',\n",
       " '_i72',\n",
       " '_i73',\n",
       " '_i74',\n",
       " '_i75',\n",
       " '_i76',\n",
       " '_i77',\n",
       " '_i78',\n",
       " '_i79',\n",
       " '_i8',\n",
       " '_i80',\n",
       " '_i81',\n",
       " '_i82',\n",
       " '_i83',\n",
       " '_i84',\n",
       " '_i85',\n",
       " '_i86',\n",
       " '_i87',\n",
       " '_i88',\n",
       " '_i89',\n",
       " '_i9',\n",
       " '_i90',\n",
       " '_i91',\n",
       " '_i92',\n",
       " '_i93',\n",
       " '_i94',\n",
       " '_i95',\n",
       " '_i96',\n",
       " '_i97',\n",
       " '_i98',\n",
       " '_i99',\n",
       " '_ih',\n",
       " '_ii',\n",
       " '_iii',\n",
       " '_jupyterlab_variableinspector_Jupyter',\n",
       " '_jupyterlab_variableinspector_default',\n",
       " '_jupyterlab_variableinspector_deletevariable',\n",
       " '_jupyterlab_variableinspector_dict_list',\n",
       " '_jupyterlab_variableinspector_displaywidget',\n",
       " '_jupyterlab_variableinspector_getcontentof',\n",
       " '_jupyterlab_variableinspector_getmatrixcontent',\n",
       " '_jupyterlab_variableinspector_getshapeof',\n",
       " '_jupyterlab_variableinspector_getsizeof',\n",
       " '_jupyterlab_variableinspector_is_matrix',\n",
       " '_jupyterlab_variableinspector_is_widget',\n",
       " '_jupyterlab_variableinspector_nms',\n",
       " '_oh',\n",
       " 'a',\n",
       " 'b',\n",
       " 'c',\n",
       " 'dataframe_columns',\n",
       " 'dataframe_hash',\n",
       " 'dtypes_str',\n",
       " 'e',\n",
       " 'exit',\n",
       " 'get_dataframes',\n",
       " 'get_ipython',\n",
       " 'getpass',\n",
       " 'hashlib',\n",
       " 'import_pandas_safely',\n",
       " 'is_data_frame',\n",
       " 'j',\n",
       " 'json',\n",
       " 'k',\n",
       " 'l',\n",
       " 'm',\n",
       " 'message1',\n",
       " 'message2',\n",
       " 'message3',\n",
       " 'message4',\n",
       " 'message5',\n",
       " 'message6',\n",
       " 'n',\n",
       " 'o',\n",
       " 'open',\n",
       " 'p',\n",
       " 'q',\n",
       " 'quit',\n",
       " 'r',\n",
       " 's',\n",
       " 'sys',\n",
       " 'x',\n",
       " 'y']"
      ]
     },
     "execution_count": 110,
     "metadata": {},
     "output_type": "execute_result"
    }
   ],
   "source": [
    "dir()"
   ]
  },
  {
   "cell_type": "code",
   "execution_count": 112,
   "id": "760d8791-8f28-4751-86c5-6ea18c35157b",
   "metadata": {
    "tags": []
   },
   "outputs": [
    {
     "data": {
      "text/plain": [
       "['ArithmeticError',\n",
       " 'AssertionError',\n",
       " 'AttributeError',\n",
       " 'BaseException',\n",
       " 'BaseExceptionGroup',\n",
       " 'BlockingIOError',\n",
       " 'BrokenPipeError',\n",
       " 'BufferError',\n",
       " 'BytesWarning',\n",
       " 'ChildProcessError',\n",
       " 'ConnectionAbortedError',\n",
       " 'ConnectionError',\n",
       " 'ConnectionRefusedError',\n",
       " 'ConnectionResetError',\n",
       " 'DeprecationWarning',\n",
       " 'EOFError',\n",
       " 'Ellipsis',\n",
       " 'EncodingWarning',\n",
       " 'EnvironmentError',\n",
       " 'Exception',\n",
       " 'ExceptionGroup',\n",
       " 'False',\n",
       " 'FileExistsError',\n",
       " 'FileNotFoundError',\n",
       " 'FloatingPointError',\n",
       " 'FutureWarning',\n",
       " 'GeneratorExit',\n",
       " 'IOError',\n",
       " 'ImportError',\n",
       " 'ImportWarning',\n",
       " 'IndentationError',\n",
       " 'IndexError',\n",
       " 'InterruptedError',\n",
       " 'IsADirectoryError',\n",
       " 'KeyError',\n",
       " 'KeyboardInterrupt',\n",
       " 'LookupError',\n",
       " 'MemoryError',\n",
       " 'ModuleNotFoundError',\n",
       " 'NameError',\n",
       " 'None',\n",
       " 'NotADirectoryError',\n",
       " 'NotImplemented',\n",
       " 'NotImplementedError',\n",
       " 'OSError',\n",
       " 'OverflowError',\n",
       " 'PendingDeprecationWarning',\n",
       " 'PermissionError',\n",
       " 'ProcessLookupError',\n",
       " 'RecursionError',\n",
       " 'ReferenceError',\n",
       " 'ResourceWarning',\n",
       " 'RuntimeError',\n",
       " 'RuntimeWarning',\n",
       " 'StopAsyncIteration',\n",
       " 'StopIteration',\n",
       " 'SyntaxError',\n",
       " 'SyntaxWarning',\n",
       " 'SystemError',\n",
       " 'SystemExit',\n",
       " 'TabError',\n",
       " 'TimeoutError',\n",
       " 'True',\n",
       " 'TypeError',\n",
       " 'UnboundLocalError',\n",
       " 'UnicodeDecodeError',\n",
       " 'UnicodeEncodeError',\n",
       " 'UnicodeError',\n",
       " 'UnicodeTranslateError',\n",
       " 'UnicodeWarning',\n",
       " 'UserWarning',\n",
       " 'ValueError',\n",
       " 'Warning',\n",
       " 'ZeroDivisionError',\n",
       " '__IPYTHON__',\n",
       " '__build_class__',\n",
       " '__debug__',\n",
       " '__doc__',\n",
       " '__import__',\n",
       " '__loader__',\n",
       " '__name__',\n",
       " '__package__',\n",
       " '__spec__',\n",
       " 'abs',\n",
       " 'aiter',\n",
       " 'all',\n",
       " 'anext',\n",
       " 'any',\n",
       " 'ascii',\n",
       " 'bin',\n",
       " 'bool',\n",
       " 'breakpoint',\n",
       " 'bytearray',\n",
       " 'bytes',\n",
       " 'callable',\n",
       " 'chr',\n",
       " 'classmethod',\n",
       " 'compile',\n",
       " 'complex',\n",
       " 'copyright',\n",
       " 'credits',\n",
       " 'delattr',\n",
       " 'dict',\n",
       " 'dir',\n",
       " 'display',\n",
       " 'divmod',\n",
       " 'enumerate',\n",
       " 'eval',\n",
       " 'exec',\n",
       " 'execfile',\n",
       " 'filter',\n",
       " 'float',\n",
       " 'format',\n",
       " 'frozenset',\n",
       " 'get_ipython',\n",
       " 'getattr',\n",
       " 'globals',\n",
       " 'hasattr',\n",
       " 'hash',\n",
       " 'help',\n",
       " 'hex',\n",
       " 'id',\n",
       " 'input',\n",
       " 'int',\n",
       " 'isinstance',\n",
       " 'issubclass',\n",
       " 'iter',\n",
       " 'len',\n",
       " 'license',\n",
       " 'list',\n",
       " 'locals',\n",
       " 'map',\n",
       " 'max',\n",
       " 'memoryview',\n",
       " 'min',\n",
       " 'next',\n",
       " 'object',\n",
       " 'oct',\n",
       " 'open',\n",
       " 'ord',\n",
       " 'pow',\n",
       " 'print',\n",
       " 'property',\n",
       " 'range',\n",
       " 'repr',\n",
       " 'reversed',\n",
       " 'round',\n",
       " 'runfile',\n",
       " 'set',\n",
       " 'setattr',\n",
       " 'slice',\n",
       " 'sorted',\n",
       " 'staticmethod',\n",
       " 'str',\n",
       " 'sum',\n",
       " 'super',\n",
       " 'tuple',\n",
       " 'type',\n",
       " 'vars',\n",
       " 'zip']"
      ]
     },
     "execution_count": 112,
     "metadata": {},
     "output_type": "execute_result"
    }
   ],
   "source": [
    "dir(__builtins__)"
   ]
  },
  {
   "cell_type": "code",
   "execution_count": 114,
   "id": "cae3628f-50a8-492b-a05e-5426a4f15505",
   "metadata": {
    "tags": []
   },
   "outputs": [
    {
     "name": "stdout",
     "output_type": "stream",
     "text": [
      "Help on built-in function pow in module builtins:\n",
      "\n",
      "pow(base, exp, mod=None)\n",
      "    Equivalent to base**exp with 2 arguments or base**exp % mod with 3 arguments\n",
      "    \n",
      "    Some types, such as ints, are able to use a more efficient algorithm when\n",
      "    invoked using the three argument form.\n",
      "\n"
     ]
    }
   ],
   "source": [
    "help(pow)"
   ]
  },
  {
   "cell_type": "code",
   "execution_count": 116,
   "id": "2ca8978c-e6de-415e-a6e8-1a8c76cdc814",
   "metadata": {
    "tags": []
   },
   "outputs": [
    {
     "data": {
      "text/plain": [
       "64"
      ]
     },
     "execution_count": 116,
     "metadata": {},
     "output_type": "execute_result"
    }
   ],
   "source": [
    "pow(8, 2)"
   ]
  },
  {
   "cell_type": "code",
   "execution_count": 118,
   "id": "8525ed9a-7c96-4b64-ad84-5a76bfdf6886",
   "metadata": {
    "tags": []
   },
   "outputs": [
    {
     "data": {
      "text/plain": [
       "64"
      ]
     },
     "execution_count": 118,
     "metadata": {},
     "output_type": "execute_result"
    }
   ],
   "source": [
    "8**2"
   ]
  },
  {
   "cell_type": "code",
   "execution_count": 120,
   "id": "2708a700-ff67-48aa-8c57-8f9147d8f756",
   "metadata": {
    "tags": []
   },
   "outputs": [
    {
     "name": "stdout",
     "output_type": "stream",
     "text": [
      "Help on built-in function hex in module builtins:\n",
      "\n",
      "hex(number, /)\n",
      "    Return the hexadecimal representation of an integer.\n",
      "    \n",
      "    >>> hex(12648430)\n",
      "    '0xc0ffee'\n",
      "\n"
     ]
    }
   ],
   "source": [
    "help(hex)"
   ]
  },
  {
   "cell_type": "code",
   "execution_count": 122,
   "id": "9a5fe0b4-75fc-4254-9086-9762c9293c31",
   "metadata": {
    "tags": []
   },
   "outputs": [
    {
     "data": {
      "text/plain": [
       "'0xa'"
      ]
     },
     "execution_count": 122,
     "metadata": {},
     "output_type": "execute_result"
    }
   ],
   "source": [
    "hex(10)"
   ]
  },
  {
   "cell_type": "code",
   "execution_count": 124,
   "id": "f3a43f5a-f896-41c0-8ce1-e54bdc8a7826",
   "metadata": {
    "tags": []
   },
   "outputs": [
    {
     "data": {
      "text/plain": [
       "10"
      ]
     },
     "execution_count": 124,
     "metadata": {},
     "output_type": "execute_result"
    }
   ],
   "source": [
    "0xa"
   ]
  },
  {
   "cell_type": "code",
   "execution_count": 126,
   "id": "1412b289-4306-49a6-b0cc-078f039de56f",
   "metadata": {
    "tags": []
   },
   "outputs": [
    {
     "name": "stdout",
     "output_type": "stream",
     "text": [
      "\n",
      "Please wait a moment while I gather a list of all available modules...\n",
      "\n"
     ]
    },
    {
     "name": "stderr",
     "output_type": "stream",
     "text": [
      "/opt/anaconda3/lib/python3.11/site-packages/nltk/twitter/__init__.py:20: UserWarning: The twython library has not been installed. Some functionality from the twitter package will not be available.\n",
      "  warnings.warn(\n",
      "/opt/anaconda3/lib/python3.11/pkgutil.py:92: UserWarning: The numpy.array_api submodule is still experimental. See NEP 47.\n",
      "  __import__(info.name)\n",
      "/opt/anaconda3/lib/python3.11/site-packages/_distutils_hack/__init__.py:33: UserWarning: Setuptools is replacing distutils.\n",
      "  warnings.warn(\"Setuptools is replacing distutils.\")\n",
      "No QCoreApplication instance found. Application patches not applied. You have to call load_stylesheet function after instantiation of QApplication to take effect. \n"
     ]
    },
    {
     "name": "stdout",
     "output_type": "stream",
     "text": [
      "6c7190bc8b55ffe67f57__mypyc botocore            jupyter_server      referencing\n",
      "AppKit              bottleneck          jupyter_server_fileid regex\n",
      "Cocoa               brotli              jupyter_server_terminals repo_cli\n",
      "CoreFoundation      bs4                 jupyter_server_ydoc reprlib\n",
      "CoreServices        builtins            jupyter_ydoc        requests\n",
      "FSEvents            bz2                 jupyterlab          requests_file\n",
      "Foundation          cProfile            jupyterlab_plotly   requests_toolbelt\n",
      "IPython             cachetools          jupyterlab_pygments resource\n",
      "OpenSSL             calendar            jupyterlab_server   rfc3339_validator\n",
      "PIL                 certifi             jupyterlab_widgets  rfc3986_validator\n",
      "PyQt5               cffi                jwt                 rich\n",
      "__future__          cgi                 keyring             rlcompleter\n",
      "__hello__           cgitb               keyword             rope\n",
      "__phello__          chardet             kiwisolver          rpds\n",
      "_abc                charset_normalizer  lazy_loader         rtree\n",
      "_aix_support        chunk               lazy_object_proxy   ruamel_yaml\n",
      "_argon2_cffi_bindings click               lckr_jupyterlab_variableinspector runpy\n",
      "_ast                cloudpickle         lib2to3             s3fs\n",
      "_asyncio            clyent              libarchive          sched\n",
      "_bisect             cmath               libfuturize         scipy\n",
      "_black_version      cmd                 libmambapy          scrapy\n",
      "_blake2             code                libpasteurize       seaborn\n",
      "_bootsubprocess     codecs              lief                secrets\n",
      "_brotli             codeop              linecache           select\n",
      "_bz2                collections         linkify_it          selectors\n",
      "_cffi_backend       colorama            llvmlite            semver\n",
      "_codecs             colorcet            lmdb                send2trash\n",
      "_codecs_cn          colorsys            locale              service_identity\n",
      "_codecs_hk          comm                locket              setuptools\n",
      "_codecs_iso2022     compileall          logging             shelve\n",
      "_codecs_jp          concurrent          lxml                shlex\n",
      "_codecs_kr          conda               lz4                 shutil\n",
      "_codecs_tw          conda_build         lzma                signal\n",
      "_collections        conda_content_trust mactypes            sipbuild\n",
      "_collections_abc    conda_env           mailbox             site\n",
      "_compat_pickle      conda_index         mailcap             six\n",
      "_compression        conda_libmamba_solver markdown            skimage\n",
      "_contextvars        conda_pack          markdown_it         sklearn\n",
      "_crypt              conda_package_handling markupsafe          slugify\n",
      "_csv                conda_package_streaming marshal             smart_open\n",
      "_ctypes             conda_token         math                smmap\n",
      "_ctypes_test        conda_verify        matplotlib          smtpd\n",
      "_curses             configparser        matplotlib_inline   smtplib\n",
      "_curses_panel       constantly          mccabe              snappy\n",
      "_datetime           contextlib          mdit_py_plugins     sndhdr\n",
      "_dbm                contextvars         mdurl               sniffio\n",
      "_decimal            contourpy           menuinst            snowballstemmer\n",
      "_distutils_hack     cookiecutter        mimetypes           socket\n",
      "_elementtree        copy                mistune             socketserver\n",
      "_functools          copyreg             mmap                socks\n",
      "_hashlib            cpuinfo             modulefinder        sockshandler\n",
      "_heapq              crypt               more_itertools      sortedcontainers\n",
      "_imp                cryptography        mpmath              soupsieve\n",
      "_io                 cssselect           msgpack             sphinx\n",
      "_json               csv                 multidict           spyder\n",
      "_locale             ctypes              multipledispatch    spyder_kernels\n",
      "_lsprof             curl                multiprocessing     sqlalchemy\n",
      "_lzma               curses              munkres             sqlite3\n",
      "_markupbase         cycler              mypy                sre_compile\n",
      "_md5                cytoolz             mypy_extensions     sre_constants\n",
      "_multibytecodec     dask                mypyc               sre_parse\n",
      "_multiprocessing    dataclasses         navigator_updater   ssl\n",
      "_opcode             datashader          nbclassic           stack_data\n",
      "_operator           datetime            nbclient            stat\n",
      "_osx_support        dateutil            nbconvert           statistics\n",
      "_pickle             dbm                 nbformat            statsmodels\n",
      "_plotly_future_     debugpy             nest_asyncio        streamlit\n",
      "_plotly_utils       decimal             netrc               string\n",
      "_posixshmem         decorator           networkx            stringprep\n",
      "_posixsubprocess    defusedxml          nis                 struct\n",
      "_py_abc             diff_match_patch    nltk                subprocess\n",
      "_pydecimal          difflib             nntplib             sunau\n",
      "_pyio               dill                notebook            sympy\n",
      "_pytest             dis                 notebook_shim       symtable\n",
      "_queue              distributed         ntpath              sys\n",
      "_random             distro              nturl2path          sysconfig\n",
      "_scproxy            distutils           numba               syslog\n",
      "_sha1               docstring_to_markdown numbergen           tables\n",
      "_sha256             doctest             numbers             tabnanny\n",
      "_sha3               docutils            numexpr             tabulate\n",
      "_sha512             dotenv              numpy               tarfile\n",
      "_signal             email               numpydoc            tblib\n",
      "_sitebuiltins       encodings           objc                telnetlib\n",
      "_socket             ensurepip           opcode              tempfile\n",
      "_sqlite3            entrypoints         openpyxl            tenacity\n",
      "_sre                enum                operator            terminado\n",
      "_ssl                erfa                optparse            termios\n",
      "_stat               errno               os                  test\n",
      "_statistics         et_xmlfile          osax                test_pycosat\n",
      "_string             executing           overrides           text_unidecode\n",
      "_strptime           fastjsonschema      packaging           textdistance\n",
      "_struct             faulthandler        pandas              textwrap\n",
      "_symtable           fcntl               pandocfilters       this\n",
      "_sysconfigdata__darwin_darwin filecmp             panel               threading\n",
      "_sysconfigdata_x86_64_apple_darwin13_4_0 fileinput           param               threadpoolctl\n",
      "_testbuffer         filelock            parsel              three_merge\n",
      "_testcapi           flake8              parso               tifffile\n",
      "_testclinic         flask               partd               time\n",
      "_testimportmultiple fnmatch             past                timeit\n",
      "_testinternalcapi   fontTools           pathlib             tinycss2\n",
      "_testmultiphase     fractions           pathspec            tkinter\n",
      "_thread             frozenlist          patsy               tldextract\n",
      "_threading_local    fsspec              pdb                 tlz\n",
      "_tkinter            ftplib              pexpect             token\n",
      "_tokenize           functools           pickle              tokenize\n",
      "_tracemalloc        future              pickleshare         toml\n",
      "_typing             gc                  pickletools         tomlkit\n",
      "_uuid               genericpath         pip                 tomllib\n",
      "_warnings           gensim              pipes               toolz\n",
      "_watchdog_fsevents  getopt              pkce                tornado\n",
      "_weakref            getpass             pkg_resources       tqdm\n",
      "_weakrefset         gettext             pkginfo             trace\n",
      "_xxsubinterpreters  git                 pkgutil             traceback\n",
      "_xxtestfuzz         gitdb               platform            tracemalloc\n",
      "_yaml               glob                platformdirs        traitlets\n",
      "_zoneinfo           gmpy2               plistlib            truststore\n",
      "abc                 graphlib            plotly              tty\n",
      "aem                 greenlet            pluggy              turtle\n",
      "aext_assistant      grp                 ply                 turtledemo\n",
      "aext_assistant_server gzip                poplib              twisted\n",
      "aext_core           h11                 posix               types\n",
      "aext_core_server    h5py                posixpath           typing\n",
      "aext_shared         hashlib             pprint              typing_extensions\n",
      "aifc                heapdict            profile             tzdata\n",
      "aiobotocore         heapq               prometheus_client   tzlocal\n",
      "aiofiles            hmac                prompt_toolkit      uc_micro\n",
      "aiohttp             holoviews           protego             ujson\n",
      "aioitertools        html                pstats              unicodedata\n",
      "aiosignal           http                psutil              unidecode\n",
      "aiosqlite           httpcore            pty                 unittest\n",
      "alabaster           httpx               ptyprocess          urllib\n",
      "altair              hvplot              pure_eval           urllib3\n",
      "anaconda_anon_usage hyperlink           pwd                 uu\n",
      "anaconda_catalogs   idlelib             py                  uuid\n",
      "anaconda_cloud_auth idna                py_compile          validators\n",
      "anaconda_navigator  imagecodecs         pyarrow             venv\n",
      "anaconda_project    imageio             pyasn1              w3lib\n",
      "antigravity         imagesize           pyasn1_modules      warnings\n",
      "anyio               imaplib             pyclbr              watchdog\n",
      "appdirs             imblearn            pycodestyle         wave\n",
      "applaunchservices   imghdr              pycosat             wcwidth\n",
      "appnope             imp                 pycparser           weakref\n",
      "appscript           importlib           pyct                webbrowser\n",
      "archspec            importlib_metadata  pycurl              webencodings\n",
      "argon2              incremental         pydantic            websocket\n",
      "argparse            inflection          pydeck              werkzeug\n",
      "array               iniconfig           pydispatch          whatthepatch\n",
      "arrow               inspect             pydoc               wheel\n",
      "ast                 intake              pydoc_data          widgetsnbextension\n",
      "astroid             intervaltree        pydocstyle          wrapt\n",
      "astropy             io                  pyexpat             wsgiref\n",
      "asttokens           ipaddress           pyflakes            wurlitzer\n",
      "async_lru           ipykernel           pygments            xarray\n",
      "asynchat            ipykernel_launcher  pylab               xdrlib\n",
      "asyncio             ipython_genutils    pylint              xlwings\n",
      "asyncore            ipywidgets          pylint_venv         xml\n",
      "atexit              isort               pyls_spyder         xmlrpc\n",
      "atomicwrites        isympy              pylsp               xxlimited\n",
      "attr                itemadapter         pylsp_black         xxlimited_35\n",
      "attrs               itemloaders         pylsp_jsonrpc       xxsubtype\n",
      "audioop             itertools           pyodbc              xyzservices\n",
      "automat             itsdangerous        pyparsing           y_py\n",
      "autopep8            jedi                pytest              yaml\n",
      "babel               jellyfish           pythonjsonlogger    yapf\n",
      "backports           jinja2              pytoolconfig        yapftests\n",
      "base64              jmespath            pytz                yarl\n",
      "bcrypt              joblib              pyviz_comms         ypy_websocket\n",
      "bdb                 json                pywt                zict\n",
      "binaryornot         json5               qdarkstyle          zipapp\n",
      "binascii            jsonpatch           qstylizer           zipfile\n",
      "binstar_client      jsonpointer         qtawesome           zipimport\n",
      "bisect              jsonschema          qtconsole           zipp\n",
      "black               jsonschema_specifications qtpy                zlib\n",
      "blackd              jupyter             queue               zmq\n",
      "bleach              jupyter_client      queuelib            zoneinfo\n",
      "blib2to3            jupyter_console     quopri              zope\n",
      "blinker             jupyter_core        random              zstandard\n",
      "bokeh               jupyter_events      re                  \n",
      "boltons             jupyter_lsp         readline            \n",
      "\n",
      "Enter any module name to get more help.  Or, type \"modules spam\" to search\n",
      "for modules whose name or summary contain the string \"spam\".\n",
      "\n"
     ]
    },
    {
     "name": "stderr",
     "output_type": "stream",
     "text": [
      "/opt/anaconda3/lib/python3.11/pkgutil.py:107: VisibleDeprecationWarning:\n",
      "\n",
      "zmq.eventloop.minitornado is deprecated in pyzmq 14.0 and will be removed.\n",
      "    Install tornado itself to use zmq with the tornado IOLoop.\n",
      "    \n",
      "\n"
     ]
    }
   ],
   "source": [
    "# List of Modules\n",
    "help('modules')"
   ]
  },
  {
   "cell_type": "code",
   "execution_count": 128,
   "id": "16c749c7-8da1-4e51-b3e7-88debcfb1f9b",
   "metadata": {
    "tags": []
   },
   "outputs": [
    {
     "ename": "NameError",
     "evalue": "name 'math' is not defined",
     "output_type": "error",
     "traceback": [
      "\u001b[0;31m---------------------------------------------------------------------------\u001b[0m",
      "\u001b[0;31mNameError\u001b[0m                                 Traceback (most recent call last)",
      "Cell \u001b[0;32mIn[128], line 1\u001b[0m\n\u001b[0;32m----> 1\u001b[0m \u001b[38;5;28mdir\u001b[39m(math)\n",
      "\u001b[0;31mNameError\u001b[0m: name 'math' is not defined"
     ]
    }
   ],
   "source": [
    "dir(math)"
   ]
  },
  {
   "cell_type": "code",
   "execution_count": 130,
   "id": "748e0f60-7a59-4578-833a-824b8ba9e5b7",
   "metadata": {
    "tags": []
   },
   "outputs": [],
   "source": [
    "import math"
   ]
  },
  {
   "cell_type": "code",
   "execution_count": 132,
   "id": "eac117fe-dcf6-4eec-a130-e087ab1833b1",
   "metadata": {
    "tags": []
   },
   "outputs": [
    {
     "data": {
      "text/plain": [
       "['__doc__',\n",
       " '__file__',\n",
       " '__loader__',\n",
       " '__name__',\n",
       " '__package__',\n",
       " '__spec__',\n",
       " 'acos',\n",
       " 'acosh',\n",
       " 'asin',\n",
       " 'asinh',\n",
       " 'atan',\n",
       " 'atan2',\n",
       " 'atanh',\n",
       " 'cbrt',\n",
       " 'ceil',\n",
       " 'comb',\n",
       " 'copysign',\n",
       " 'cos',\n",
       " 'cosh',\n",
       " 'degrees',\n",
       " 'dist',\n",
       " 'e',\n",
       " 'erf',\n",
       " 'erfc',\n",
       " 'exp',\n",
       " 'exp2',\n",
       " 'expm1',\n",
       " 'fabs',\n",
       " 'factorial',\n",
       " 'floor',\n",
       " 'fmod',\n",
       " 'frexp',\n",
       " 'fsum',\n",
       " 'gamma',\n",
       " 'gcd',\n",
       " 'hypot',\n",
       " 'inf',\n",
       " 'isclose',\n",
       " 'isfinite',\n",
       " 'isinf',\n",
       " 'isnan',\n",
       " 'isqrt',\n",
       " 'lcm',\n",
       " 'ldexp',\n",
       " 'lgamma',\n",
       " 'log',\n",
       " 'log10',\n",
       " 'log1p',\n",
       " 'log2',\n",
       " 'modf',\n",
       " 'nan',\n",
       " 'nextafter',\n",
       " 'perm',\n",
       " 'pi',\n",
       " 'pow',\n",
       " 'prod',\n",
       " 'radians',\n",
       " 'remainder',\n",
       " 'sin',\n",
       " 'sinh',\n",
       " 'sqrt',\n",
       " 'tan',\n",
       " 'tanh',\n",
       " 'tau',\n",
       " 'trunc',\n",
       " 'ulp']"
      ]
     },
     "execution_count": 132,
     "metadata": {},
     "output_type": "execute_result"
    }
   ],
   "source": [
    "dir(math)"
   ]
  },
  {
   "cell_type": "code",
   "execution_count": 134,
   "id": "b6cb8d2d-1e1b-4544-aef4-07130dd6e89e",
   "metadata": {
    "tags": []
   },
   "outputs": [
    {
     "ename": "NameError",
     "evalue": "name 'radians' is not defined",
     "output_type": "error",
     "traceback": [
      "\u001b[0;31m---------------------------------------------------------------------------\u001b[0m",
      "\u001b[0;31mNameError\u001b[0m                                 Traceback (most recent call last)",
      "Cell \u001b[0;32mIn[134], line 1\u001b[0m\n\u001b[0;32m----> 1\u001b[0m help(radians)\n",
      "\u001b[0;31mNameError\u001b[0m: name 'radians' is not defined"
     ]
    }
   ],
   "source": [
    "help(radians)"
   ]
  },
  {
   "cell_type": "code",
   "execution_count": 136,
   "id": "d5955723-a9d9-457e-873c-939a30ead47c",
   "metadata": {
    "tags": []
   },
   "outputs": [
    {
     "name": "stdout",
     "output_type": "stream",
     "text": [
      "Help on built-in function radians in module math:\n",
      "\n",
      "radians(x, /)\n",
      "    Convert angle x from degrees to radians.\n",
      "\n"
     ]
    }
   ],
   "source": [
    "help(math.radians)"
   ]
  },
  {
   "cell_type": "code",
   "execution_count": 138,
   "id": "45f84c9a-5057-4465-b775-a44314681662",
   "metadata": {
    "tags": []
   },
   "outputs": [
    {
     "ename": "NameError",
     "evalue": "name 'radians' is not defined",
     "output_type": "error",
     "traceback": [
      "\u001b[0;31m---------------------------------------------------------------------------\u001b[0m",
      "\u001b[0;31mNameError\u001b[0m                                 Traceback (most recent call last)",
      "Cell \u001b[0;32mIn[138], line 1\u001b[0m\n\u001b[0;32m----> 1\u001b[0m radians(\u001b[38;5;241m180\u001b[39m)\n",
      "\u001b[0;31mNameError\u001b[0m: name 'radians' is not defined"
     ]
    }
   ],
   "source": [
    "radians(180)"
   ]
  },
  {
   "cell_type": "code",
   "execution_count": 140,
   "id": "90ff679a-a41b-4836-919f-b4b8b3e470ce",
   "metadata": {
    "tags": []
   },
   "outputs": [
    {
     "data": {
      "text/plain": [
       "3.141592653589793"
      ]
     },
     "execution_count": 140,
     "metadata": {},
     "output_type": "execute_result"
    }
   ],
   "source": [
    "math.radians(180)"
   ]
  },
  {
   "cell_type": "code",
   "execution_count": 142,
   "id": "9e5ff1c9-17db-44cc-861c-22a2229d6576",
   "metadata": {
    "tags": []
   },
   "outputs": [
    {
     "data": {
      "text/plain": [
       "4.0"
      ]
     },
     "execution_count": 142,
     "metadata": {},
     "output_type": "execute_result"
    }
   ],
   "source": [
    "math.sqrt(16)"
   ]
  },
  {
   "cell_type": "code",
   "execution_count": 146,
   "id": "ef52c619-627f-4831-bc71-b80600ad6668",
   "metadata": {
    "tags": []
   },
   "outputs": [],
   "source": [
    "# Booleans\n",
    "a = 4\n",
    "b = 6\n",
    "c = 4"
   ]
  },
  {
   "cell_type": "code",
   "execution_count": 148,
   "id": "aec9ef20-3375-4537-802b-b1fae303b76e",
   "metadata": {
    "tags": []
   },
   "outputs": [
    {
     "data": {
      "text/plain": [
       "False"
      ]
     },
     "execution_count": 148,
     "metadata": {},
     "output_type": "execute_result"
    }
   ],
   "source": [
    "a == b"
   ]
  },
  {
   "cell_type": "code",
   "execution_count": 150,
   "id": "493b5f52-bfe6-406a-971f-94268c2ce411",
   "metadata": {
    "tags": []
   },
   "outputs": [
    {
     "data": {
      "text/plain": [
       "True"
      ]
     },
     "execution_count": 150,
     "metadata": {},
     "output_type": "execute_result"
    }
   ],
   "source": [
    "a == c"
   ]
  },
  {
   "cell_type": "code",
   "execution_count": 152,
   "id": "8f06051e-71cd-4161-99e0-fec5b085e80f",
   "metadata": {
    "tags": []
   },
   "outputs": [
    {
     "data": {
      "text/plain": [
       "True"
      ]
     },
     "execution_count": 152,
     "metadata": {},
     "output_type": "execute_result"
    }
   ],
   "source": [
    "a == 4"
   ]
  },
  {
   "cell_type": "code",
   "execution_count": 154,
   "id": "83a800ae-8217-4dec-b678-683e1a2add39",
   "metadata": {
    "tags": []
   },
   "outputs": [
    {
     "data": {
      "text/plain": [
       "True"
      ]
     },
     "execution_count": 154,
     "metadata": {},
     "output_type": "execute_result"
    }
   ],
   "source": [
    "a != b"
   ]
  },
  {
   "cell_type": "code",
   "execution_count": 156,
   "id": "fa638413-1fec-46a2-8bca-f990d7ac0066",
   "metadata": {
    "tags": []
   },
   "outputs": [
    {
     "data": {
      "text/plain": [
       "False"
      ]
     },
     "execution_count": 156,
     "metadata": {},
     "output_type": "execute_result"
    }
   ],
   "source": [
    "a != c"
   ]
  },
  {
   "cell_type": "code",
   "execution_count": 158,
   "id": "f4164552-9a52-40c5-a0a9-0dad9068ee37",
   "metadata": {
    "tags": []
   },
   "outputs": [
    {
     "data": {
      "text/plain": [
       "False"
      ]
     },
     "execution_count": 158,
     "metadata": {},
     "output_type": "execute_result"
    }
   ],
   "source": [
    "a > b"
   ]
  },
  {
   "cell_type": "code",
   "execution_count": 160,
   "id": "2692d3f0-73bb-41a9-9701-b8f975cf95f9",
   "metadata": {
    "tags": []
   },
   "outputs": [
    {
     "data": {
      "text/plain": [
       "False"
      ]
     },
     "execution_count": 160,
     "metadata": {},
     "output_type": "execute_result"
    }
   ],
   "source": [
    "a > c"
   ]
  },
  {
   "cell_type": "code",
   "execution_count": 164,
   "id": "1788f0c0-33bc-41a0-bfce-bacdbb68c22d",
   "metadata": {
    "tags": []
   },
   "outputs": [
    {
     "data": {
      "text/plain": [
       "True"
      ]
     },
     "execution_count": 164,
     "metadata": {},
     "output_type": "execute_result"
    }
   ],
   "source": [
    "a < b"
   ]
  },
  {
   "cell_type": "code",
   "execution_count": 166,
   "id": "840e6e36-21c9-4f9f-9e6a-1107b6cd38ea",
   "metadata": {
    "tags": []
   },
   "outputs": [
    {
     "data": {
      "text/plain": [
       "bool"
      ]
     },
     "execution_count": 166,
     "metadata": {},
     "output_type": "execute_result"
    }
   ],
   "source": [
    "type(True)"
   ]
  },
  {
   "cell_type": "code",
   "execution_count": 168,
   "id": "ec379842-954f-4906-96f8-3985c97088e3",
   "metadata": {
    "tags": []
   },
   "outputs": [
    {
     "data": {
      "text/plain": [
       "bool"
      ]
     },
     "execution_count": 168,
     "metadata": {},
     "output_type": "execute_result"
    }
   ],
   "source": [
    "type(False)"
   ]
  },
  {
   "cell_type": "code",
   "execution_count": 170,
   "id": "2ec63f38-897a-4412-b99d-f08307498dad",
   "metadata": {
    "tags": []
   },
   "outputs": [
    {
     "data": {
      "text/plain": [
       "True"
      ]
     },
     "execution_count": 170,
     "metadata": {},
     "output_type": "execute_result"
    }
   ],
   "source": [
    " bool(28)"
   ]
  },
  {
   "cell_type": "code",
   "execution_count": 172,
   "id": "2a510c2a-abea-4d02-9a87-fac574a2050e",
   "metadata": {
    "tags": []
   },
   "outputs": [
    {
     "data": {
      "text/plain": [
       "True"
      ]
     },
     "execution_count": 172,
     "metadata": {},
     "output_type": "execute_result"
    }
   ],
   "source": [
    "bool(-2.683)"
   ]
  },
  {
   "cell_type": "code",
   "execution_count": 174,
   "id": "4d71ab9d-a75b-4ccf-aa66-e67d4d89b30e",
   "metadata": {
    "tags": []
   },
   "outputs": [
    {
     "data": {
      "text/plain": [
       "False"
      ]
     },
     "execution_count": 174,
     "metadata": {},
     "output_type": "execute_result"
    }
   ],
   "source": [
    "bool(0)"
   ]
  },
  {
   "cell_type": "code",
   "execution_count": 178,
   "id": "11003b97-a8ad-45c8-8e49-cd3209c929a7",
   "metadata": {
    "tags": []
   },
   "outputs": [],
   "source": [
    "# In python, 0 is converted to false while any other numbers are converted to True\n",
    "# We can also convert strings to booleans"
   ]
  },
  {
   "cell_type": "code",
   "execution_count": 180,
   "id": "232d6985-5487-4d5a-83f2-df4de19367ba",
   "metadata": {
    "tags": []
   },
   "outputs": [
    {
     "data": {
      "text/plain": [
       "True"
      ]
     },
     "execution_count": 180,
     "metadata": {},
     "output_type": "execute_result"
    }
   ],
   "source": [
    "bool(\"Turing\")"
   ]
  },
  {
   "cell_type": "code",
   "execution_count": 182,
   "id": "b9df9a75-8526-4913-a153-14b4e840220c",
   "metadata": {
    "tags": []
   },
   "outputs": [
    {
     "data": {
      "text/plain": [
       "True"
      ]
     },
     "execution_count": 182,
     "metadata": {},
     "output_type": "execute_result"
    }
   ],
   "source": [
    "bool(\" \")"
   ]
  },
  {
   "cell_type": "code",
   "execution_count": 184,
   "id": "d0ce4491-c7ce-48be-b092-8a84a6d4c96a",
   "metadata": {
    "tags": []
   },
   "outputs": [
    {
     "data": {
      "text/plain": [
       "False"
      ]
     },
     "execution_count": 184,
     "metadata": {},
     "output_type": "execute_result"
    }
   ],
   "source": [
    "bool(\"\")"
   ]
  },
  {
   "cell_type": "code",
   "execution_count": 186,
   "id": "d001888f-364b-4c73-9260-388c5c071e0a",
   "metadata": {
    "tags": []
   },
   "outputs": [],
   "source": [
    "# In python, an empty string is converted to False while other strings are converted to True.\n",
    "# A space in the string is not empty."
   ]
  },
  {
   "cell_type": "code",
   "execution_count": 190,
   "id": "595aba61-e3e4-4c2c-b3be-3d9d9930b2a8",
   "metadata": {
    "tags": []
   },
   "outputs": [],
   "source": [
    "# Boolean Conversions\n",
    "\n",
    "# Trivial values --> False\n",
    "# Non-trivial values --> True"
   ]
  },
  {
   "cell_type": "code",
   "execution_count": 192,
   "id": "44ebf8d3-8faa-4614-b572-8e4024714d22",
   "metadata": {
    "tags": []
   },
   "outputs": [],
   "source": [
    "# You can convert booleans to other types of objects, just like you can convert objects to booleans."
   ]
  },
  {
   "cell_type": "code",
   "execution_count": 194,
   "id": "c360e539-6234-4add-8c93-b7d1eeb921d3",
   "metadata": {
    "tags": []
   },
   "outputs": [
    {
     "data": {
      "text/plain": [
       "'True'"
      ]
     },
     "execution_count": 194,
     "metadata": {},
     "output_type": "execute_result"
    }
   ],
   "source": [
    "str(True)"
   ]
  },
  {
   "cell_type": "code",
   "execution_count": 196,
   "id": "9641a14b-aaa8-47d8-836b-a16d1866f1c0",
   "metadata": {
    "tags": []
   },
   "outputs": [
    {
     "data": {
      "text/plain": [
       "'False'"
      ]
     },
     "execution_count": 196,
     "metadata": {},
     "output_type": "execute_result"
    }
   ],
   "source": [
    "str(False)"
   ]
  },
  {
   "cell_type": "code",
   "execution_count": 198,
   "id": "260ef773-a301-4fc5-9ec4-df76bd194435",
   "metadata": {
    "tags": []
   },
   "outputs": [
    {
     "data": {
      "text/plain": [
       "1"
      ]
     },
     "execution_count": 198,
     "metadata": {},
     "output_type": "execute_result"
    }
   ],
   "source": [
    "int(True)"
   ]
  },
  {
   "cell_type": "code",
   "execution_count": 200,
   "id": "1a9bf35e-8b75-48a1-98ca-c7beddf6a5c1",
   "metadata": {
    "tags": []
   },
   "outputs": [
    {
     "data": {
      "text/plain": [
       "0"
      ]
     },
     "execution_count": 200,
     "metadata": {},
     "output_type": "execute_result"
    }
   ],
   "source": [
    "int(False)"
   ]
  },
  {
   "cell_type": "code",
   "execution_count": 202,
   "id": "d777862a-77a4-4536-bbf8-997fbe334b2f",
   "metadata": {
    "tags": []
   },
   "outputs": [
    {
     "data": {
      "text/plain": [
       "6"
      ]
     },
     "execution_count": 202,
     "metadata": {},
     "output_type": "execute_result"
    }
   ],
   "source": [
    " 5 + True"
   ]
  },
  {
   "cell_type": "code",
   "execution_count": 204,
   "id": "fb67dc54-0ec4-4165-8b26-aa8c29430048",
   "metadata": {
    "tags": []
   },
   "outputs": [
    {
     "data": {
      "text/plain": [
       "5"
      ]
     },
     "execution_count": 204,
     "metadata": {},
     "output_type": "execute_result"
    }
   ],
   "source": [
    "5 + False "
   ]
  },
  {
   "cell_type": "code",
   "execution_count": 206,
   "id": "8538728d-f01f-4dfc-9e78-8760f43d11b7",
   "metadata": {
    "tags": []
   },
   "outputs": [],
   "source": [
    "# Adding Numbers to booleans, \n",
    "# True --> 1\n",
    "# False --> 0"
   ]
  },
  {
   "cell_type": "code",
   "execution_count": 208,
   "id": "ad95c28a-e60a-4a8f-980b-ea7dde7ef435",
   "metadata": {
    "tags": []
   },
   "outputs": [],
   "source": [
    "import datetime"
   ]
  },
  {
   "cell_type": "code",
   "execution_count": 210,
   "id": "e7ea3a1e-c9c9-4fc2-abf0-76fb6460394f",
   "metadata": {
    "tags": []
   },
   "outputs": [
    {
     "data": {
      "text/plain": [
       "['MAXYEAR',\n",
       " 'MINYEAR',\n",
       " 'UTC',\n",
       " '__all__',\n",
       " '__builtins__',\n",
       " '__cached__',\n",
       " '__doc__',\n",
       " '__file__',\n",
       " '__loader__',\n",
       " '__name__',\n",
       " '__package__',\n",
       " '__spec__',\n",
       " 'date',\n",
       " 'datetime',\n",
       " 'datetime_CAPI',\n",
       " 'sys',\n",
       " 'time',\n",
       " 'timedelta',\n",
       " 'timezone',\n",
       " 'tzinfo']"
      ]
     },
     "execution_count": 210,
     "metadata": {},
     "output_type": "execute_result"
    }
   ],
   "source": [
    "dir(datetime)"
   ]
  },
  {
   "cell_type": "code",
   "execution_count": 212,
   "id": "65641dd2-bb26-4943-8951-bce07184a48d",
   "metadata": {
    "tags": []
   },
   "outputs": [
    {
     "name": "stdout",
     "output_type": "stream",
     "text": [
      "Help on class date in module datetime:\n",
      "\n",
      "class date(builtins.object)\n",
      " |  date(year, month, day) --> date object\n",
      " |  \n",
      " |  Methods defined here:\n",
      " |  \n",
      " |  __add__(self, value, /)\n",
      " |      Return self+value.\n",
      " |  \n",
      " |  __eq__(self, value, /)\n",
      " |      Return self==value.\n",
      " |  \n",
      " |  __format__(...)\n",
      " |      Formats self with strftime.\n",
      " |  \n",
      " |  __ge__(self, value, /)\n",
      " |      Return self>=value.\n",
      " |  \n",
      " |  __getattribute__(self, name, /)\n",
      " |      Return getattr(self, name).\n",
      " |  \n",
      " |  __gt__(self, value, /)\n",
      " |      Return self>value.\n",
      " |  \n",
      " |  __hash__(self, /)\n",
      " |      Return hash(self).\n",
      " |  \n",
      " |  __le__(self, value, /)\n",
      " |      Return self<=value.\n",
      " |  \n",
      " |  __lt__(self, value, /)\n",
      " |      Return self<value.\n",
      " |  \n",
      " |  __ne__(self, value, /)\n",
      " |      Return self!=value.\n",
      " |  \n",
      " |  __radd__(self, value, /)\n",
      " |      Return value+self.\n",
      " |  \n",
      " |  __reduce__(...)\n",
      " |      __reduce__() -> (cls, state)\n",
      " |  \n",
      " |  __repr__(self, /)\n",
      " |      Return repr(self).\n",
      " |  \n",
      " |  __rsub__(self, value, /)\n",
      " |      Return value-self.\n",
      " |  \n",
      " |  __str__(self, /)\n",
      " |      Return str(self).\n",
      " |  \n",
      " |  __sub__(self, value, /)\n",
      " |      Return self-value.\n",
      " |  \n",
      " |  ctime(...)\n",
      " |      Return ctime() style string.\n",
      " |  \n",
      " |  isocalendar(...)\n",
      " |      Return a named tuple containing ISO year, week number, and weekday.\n",
      " |  \n",
      " |  isoformat(...)\n",
      " |      Return string in ISO 8601 format, YYYY-MM-DD.\n",
      " |  \n",
      " |  isoweekday(...)\n",
      " |      Return the day of the week represented by the date.\n",
      " |      Monday == 1 ... Sunday == 7\n",
      " |  \n",
      " |  replace(...)\n",
      " |      Return date with new specified fields.\n",
      " |  \n",
      " |  strftime(...)\n",
      " |      format -> strftime() style string.\n",
      " |  \n",
      " |  timetuple(...)\n",
      " |      Return time tuple, compatible with time.localtime().\n",
      " |  \n",
      " |  toordinal(...)\n",
      " |      Return proleptic Gregorian ordinal.  January 1 of year 1 is day 1.\n",
      " |  \n",
      " |  weekday(...)\n",
      " |      Return the day of the week represented by the date.\n",
      " |      Monday == 0 ... Sunday == 6\n",
      " |  \n",
      " |  ----------------------------------------------------------------------\n",
      " |  Class methods defined here:\n",
      " |  \n",
      " |  fromisocalendar(...) from builtins.type\n",
      " |      int, int, int -> Construct a date from the ISO year, week number and weekday.\n",
      " |      \n",
      " |      This is the inverse of the date.isocalendar() function\n",
      " |  \n",
      " |  fromisoformat(...) from builtins.type\n",
      " |      str -> Construct a date from a string in ISO 8601 format.\n",
      " |  \n",
      " |  fromordinal(...) from builtins.type\n",
      " |      int -> date corresponding to a proleptic Gregorian ordinal.\n",
      " |  \n",
      " |  fromtimestamp(timestamp, /) from builtins.type\n",
      " |      Create a date from a POSIX timestamp.\n",
      " |      \n",
      " |      The timestamp is a number, e.g. created via time.time(), that is interpreted\n",
      " |      as local time.\n",
      " |  \n",
      " |  today(...) from builtins.type\n",
      " |      Current date or datetime:  same as self.__class__.fromtimestamp(time.time()).\n",
      " |  \n",
      " |  ----------------------------------------------------------------------\n",
      " |  Static methods defined here:\n",
      " |  \n",
      " |  __new__(*args, **kwargs) from builtins.type\n",
      " |      Create and return a new object.  See help(type) for accurate signature.\n",
      " |  \n",
      " |  ----------------------------------------------------------------------\n",
      " |  Data descriptors defined here:\n",
      " |  \n",
      " |  day\n",
      " |  \n",
      " |  month\n",
      " |  \n",
      " |  year\n",
      " |  \n",
      " |  ----------------------------------------------------------------------\n",
      " |  Data and other attributes defined here:\n",
      " |  \n",
      " |  max = datetime.date(9999, 12, 31)\n",
      " |  \n",
      " |  min = datetime.date(1, 1, 1)\n",
      " |  \n",
      " |  resolution = datetime.timedelta(days=1)\n",
      "\n"
     ]
    }
   ],
   "source": [
    " help(datetime.date)"
   ]
  },
  {
   "cell_type": "code",
   "execution_count": 214,
   "id": "2de97625-b8a7-44a4-96b3-f0dfbfffea45",
   "metadata": {
    "tags": []
   },
   "outputs": [],
   "source": [
    "DOB = datetime.date(1998, 4, 1)"
   ]
  },
  {
   "cell_type": "code",
   "execution_count": 216,
   "id": "d1304f05-2c67-4d8e-ba7d-d9483412f051",
   "metadata": {
    "tags": []
   },
   "outputs": [
    {
     "data": {
      "text/plain": [
       "datetime.date(1998, 4, 1)"
      ]
     },
     "execution_count": 216,
     "metadata": {},
     "output_type": "execute_result"
    }
   ],
   "source": [
    "DOB"
   ]
  },
  {
   "cell_type": "code",
   "execution_count": 218,
   "id": "db55a71e-1bc0-447f-8163-e3f4bf619ec0",
   "metadata": {
    "tags": []
   },
   "outputs": [
    {
     "name": "stdout",
     "output_type": "stream",
     "text": [
      "1998-04-01\n"
     ]
    }
   ],
   "source": [
    "print(DOB)"
   ]
  },
  {
   "cell_type": "code",
   "execution_count": 220,
   "id": "9a94907b-ae4b-4b68-87d0-f37c8cac5f5a",
   "metadata": {
    "tags": []
   },
   "outputs": [
    {
     "name": "stdout",
     "output_type": "stream",
     "text": [
      "1998\n"
     ]
    }
   ],
   "source": [
    "print(DOB.year)"
   ]
  },
  {
   "cell_type": "code",
   "execution_count": 222,
   "id": "d68d9eae-e9ee-4cc8-ad03-0c8d1e9e2626",
   "metadata": {
    "tags": []
   },
   "outputs": [
    {
     "name": "stdout",
     "output_type": "stream",
     "text": [
      "4\n"
     ]
    }
   ],
   "source": [
    "print(DOB.month)"
   ]
  },
  {
   "cell_type": "code",
   "execution_count": 224,
   "id": "4066413b-467b-45b4-8a6f-239efae92426",
   "metadata": {
    "tags": []
   },
   "outputs": [
    {
     "name": "stdout",
     "output_type": "stream",
     "text": [
      "1\n"
     ]
    }
   ],
   "source": [
    "print(DOB.day)"
   ]
  },
  {
   "cell_type": "code",
   "execution_count": 232,
   "id": "db3626b7-9f3e-4c59-80b9-2defd5da4872",
   "metadata": {
    "tags": []
   },
   "outputs": [],
   "source": [
    "millenium = datetime.date(2000, 1, 1)\n",
    "dt = datetime.timedelta(100)\n",
    "# A positive(+ve) number will increase the date while the -ve number will decrease the date e.g datetime.timedelta(-100)"
   ]
  },
  {
   "cell_type": "code",
   "execution_count": 230,
   "id": "34a498a3-ef25-430c-8c38-1dce498558f4",
   "metadata": {
    "tags": []
   },
   "outputs": [
    {
     "name": "stdout",
     "output_type": "stream",
     "text": [
      "2000-04-10\n"
     ]
    }
   ],
   "source": [
    "print(millenium + dt)"
   ]
  },
  {
   "cell_type": "code",
   "execution_count": 234,
   "id": "a25880f0-8039-4622-a9f8-2e6c816f6579",
   "metadata": {
    "tags": []
   },
   "outputs": [
    {
     "name": "stdout",
     "output_type": "stream",
     "text": [
      "1999-09-23\n"
     ]
    }
   ],
   "source": [
    "print (millenium - dt)"
   ]
  },
  {
   "cell_type": "code",
   "execution_count": 236,
   "id": "51364e50-b36f-4e34-88ec-02048b7c8cd5",
   "metadata": {
    "tags": []
   },
   "outputs": [],
   "source": [
    "da = datetime.timedelta(-100)"
   ]
  },
  {
   "cell_type": "code",
   "execution_count": 238,
   "id": "8ed57457-245f-4bbb-88e2-5454c3025a80",
   "metadata": {
    "tags": []
   },
   "outputs": [
    {
     "name": "stdout",
     "output_type": "stream",
     "text": [
      "1999-09-23\n"
     ]
    }
   ],
   "source": [
    "print(millenium + da)"
   ]
  },
  {
   "cell_type": "code",
   "execution_count": 292,
   "id": "e3371ffd-f09c-4255-96cc-005cab4ba2e6",
   "metadata": {
    "tags": []
   },
   "outputs": [
    {
     "name": "stdout",
     "output_type": "stream",
     "text": [
      "Gordon was born on Wednesday, April 01, 1998\n"
     ]
    }
   ],
   "source": [
    "# Changing the default format of displaying the date\n",
    "\n",
    "# Traditional\n",
    "print('Gordon was born on', DOB.strftime(\"%A, %B %d, %Y\"))\n",
    "# strftime --> string format time"
   ]
  },
  {
   "cell_type": "code",
   "execution_count": 294,
   "id": "2e8b7b63-cf1d-4417-ac0a-1ddf4211c770",
   "metadata": {
    "tags": []
   },
   "outputs": [],
   "source": [
    "# Modern Way\n",
    "message1 = \"Gordon was born on {:%A, %B %d, %Y}.\""
   ]
  },
  {
   "cell_type": "code",
   "execution_count": 296,
   "id": "397e751a-2921-410a-8e8c-31c25b1da235",
   "metadata": {
    "tags": []
   },
   "outputs": [
    {
     "name": "stdout",
     "output_type": "stream",
     "text": [
      "Gordon was born on Wednesday, April 01, 1998.\n"
     ]
    }
   ],
   "source": [
    "print(message1.format(DOB))"
   ]
  },
  {
   "cell_type": "code",
   "execution_count": 262,
   "id": "7e047ba3-fd18-4a5f-a053-4d746c1eba24",
   "metadata": {
    "tags": []
   },
   "outputs": [],
   "source": [
    "# SpaceX first launch\n",
    "launch_date = datetime.date(2017, 3, 30)\n",
    "launch_time = datetime.time(22, 27, 0)\n",
    "launch_datetime = datetime.datetime(2017, 3, 30, 22, 27, 0)\n",
    "# launch_zone = datetime.timezone(UTC)"
   ]
  },
  {
   "cell_type": "code",
   "execution_count": 266,
   "id": "e187b06a-62e5-420b-9cfd-6374c48da4d0",
   "metadata": {
    "tags": []
   },
   "outputs": [
    {
     "name": "stdout",
     "output_type": "stream",
     "text": [
      "2017-03-30\n",
      "22:27:00\n",
      "2017-03-30 22:27:00\n"
     ]
    }
   ],
   "source": [
    "print(launch_date)\n",
    "print(launch_time)\n",
    "print(launch_datetime)"
   ]
  },
  {
   "cell_type": "code",
   "execution_count": 272,
   "id": "94e83e32-c853-432f-ad53-dae1ab63af20",
   "metadata": {
    "tags": []
   },
   "outputs": [
    {
     "name": "stdout",
     "output_type": "stream",
     "text": [
      "2017\n"
     ]
    }
   ],
   "source": [
    "print(launch_date.year)"
   ]
  },
  {
   "cell_type": "code",
   "execution_count": 270,
   "id": "6379d434-0fdc-4bf8-83ec-62e5030809da",
   "metadata": {
    "tags": []
   },
   "outputs": [
    {
     "name": "stdout",
     "output_type": "stream",
     "text": [
      "3\n"
     ]
    }
   ],
   "source": [
    "print(launch_date.month)"
   ]
  },
  {
   "cell_type": "code",
   "execution_count": 274,
   "id": "7e3a8d68-bf5c-4ab6-9498-bad9efaf27e3",
   "metadata": {
    "tags": []
   },
   "outputs": [
    {
     "name": "stdout",
     "output_type": "stream",
     "text": [
      "27\n"
     ]
    }
   ],
   "source": [
    "print(launch_datetime.minute)"
   ]
  },
  {
   "cell_type": "code",
   "execution_count": 282,
   "id": "50a50d7e-277f-47c5-9f4a-7b68d4937011",
   "metadata": {
    "tags": []
   },
   "outputs": [],
   "source": [
    " now = datetime.datetime.today()"
   ]
  },
  {
   "cell_type": "code",
   "execution_count": 284,
   "id": "2ab9e1c3-eaf5-4340-b213-74d3b35719dc",
   "metadata": {
    "tags": []
   },
   "outputs": [
    {
     "name": "stdout",
     "output_type": "stream",
     "text": [
      "2024-03-22 01:36:19.412059\n"
     ]
    }
   ],
   "source": [
    "print(now)"
   ]
  },
  {
   "cell_type": "code",
   "execution_count": 288,
   "id": "2faeb184-2109-4838-b96b-b9830cb85e17",
   "metadata": {
    "tags": []
   },
   "outputs": [
    {
     "name": "stdout",
     "output_type": "stream",
     "text": [
      "412059\n"
     ]
    }
   ],
   "source": [
    "print(now.microsecond)"
   ]
  },
  {
   "cell_type": "code",
   "execution_count": 304,
   "id": "ad81dc2b-735e-4f2c-b09d-ec5860304eb3",
   "metadata": {
    "tags": []
   },
   "outputs": [],
   "source": [
    "moon_landing = \"7/20/1969\""
   ]
  },
  {
   "cell_type": "code",
   "execution_count": 306,
   "id": "aa4df9cb-51ed-46e3-8e20-e6825510c9a3",
   "metadata": {
    "tags": []
   },
   "outputs": [],
   "source": [
    "# To convert strings into datetime format, We shall use strptime\n",
    "# strptime --> String Pass Time"
   ]
  },
  {
   "cell_type": "code",
   "execution_count": 308,
   "id": "d10d2c94-ad74-42c5-966c-4c7879aa235e",
   "metadata": {
    "tags": []
   },
   "outputs": [],
   "source": [
    "moon_landings_datetime = datetime.datetime.strptime(moon_landing, \"%m/%d/%Y\")"
   ]
  },
  {
   "cell_type": "code",
   "execution_count": 310,
   "id": "7f7b9e13-c9f0-4350-bc65-e8d01ea3a51f",
   "metadata": {
    "tags": []
   },
   "outputs": [
    {
     "name": "stdout",
     "output_type": "stream",
     "text": [
      "1969-07-20 00:00:00\n"
     ]
    }
   ],
   "source": [
    "print(moon_landings_datetime)"
   ]
  },
  {
   "cell_type": "code",
   "execution_count": 312,
   "id": "491ee01f-8fa6-456b-b0ef-d521e4162d03",
   "metadata": {
    "tags": []
   },
   "outputs": [
    {
     "name": "stdout",
     "output_type": "stream",
     "text": [
      "<class 'datetime.datetime'>\n"
     ]
    }
   ],
   "source": [
    "print(type(moon_landings_datetime))"
   ]
  },
  {
   "cell_type": "code",
   "execution_count": 314,
   "id": "053c825d-8504-42ef-a348-ee021267b4b5",
   "metadata": {
    "tags": []
   },
   "outputs": [],
   "source": [
    "# if then else statements"
   ]
  },
  {
   "cell_type": "code",
   "execution_count": 318,
   "id": "33ae02d0-3104-42f2-bdc4-50f8d4559466",
   "metadata": {
    "tags": []
   },
   "outputs": [
    {
     "name": "stdin",
     "output_type": "stream",
     "text": [
      "Please enter a test string:  mission\n"
     ]
    }
   ],
   "source": [
    "# Collect string / test length\n",
    "\n",
    "string1 = input(\"Please enter a test string: \")\n",
    "\n",
    "if len(string1) < 6:\n",
    "    print(\"Your string is too short\")\n",
    "    print(\"Please enter the string with atleast 6 characters.\")"
   ]
  },
  {
   "cell_type": "code",
   "execution_count": 322,
   "id": "0559821a-1459-4378-8ed3-e3945ea6e349",
   "metadata": {
    "tags": []
   },
   "outputs": [
    {
     "name": "stdin",
     "output_type": "stream",
     "text": [
      "Please enter an integer:  2\n"
     ]
    },
    {
     "name": "stdout",
     "output_type": "stream",
     "text": [
      "Your number is even.\n"
     ]
    }
   ],
   "source": [
    "# Prompt User to enter number / test if even or odd\n",
    "\n",
    "prompt = input(\"Please enter an integer: \")\n",
    "number = int(prompt)\n",
    "\n",
    "if number % 2 == 0:\n",
    "    print(\"Your number is even.\")\n",
    "else:\n",
    "    print(\"Your number is odd.\")"
   ]
  },
  {
   "cell_type": "code",
   "execution_count": 363,
   "id": "04cc8789-d45f-4c61-b62b-b280c27a0c7a",
   "metadata": {
    "tags": []
   },
   "outputs": [
    {
     "name": "stdin",
     "output_type": "stream",
     "text": [
      "The length of side a =  1\n",
      "The length of side b =  1\n",
      "The length of side c =  1\n"
     ]
    },
    {
     "name": "stdout",
     "output_type": "stream",
     "text": [
      "This is an equilateral Triangle.\n"
     ]
    }
   ],
   "source": [
    "# Scarlene Triangle: All sides have different lengths\n",
    "# Isosceles Triangle: Two sides have the same lengths\n",
    "# Equilateral Triangle: All sides are equal\n",
    "\n",
    "a = int(input(\"The length of side a = \"))\n",
    "b = int(input(\"The length of side b = \"))\n",
    "c = int(input(\"The length of side c = \"))\n",
    "\n",
    "if a != b & b != c & a != c:\n",
    "    print(\"This is a Scarlene Triangle.\")\n",
    "elif a == b & b == c:\n",
    "    print(\"This is an equilateral Triangle.\")\n",
    "else:\n",
    "    print(\"This is an Isosceles Triangle.\")"
   ]
  },
  {
   "cell_type": "code",
   "execution_count": 373,
   "id": "ea192795-c5a2-4dca-9a8c-814039e5fa6d",
   "metadata": {
    "tags": []
   },
   "outputs": [],
   "source": [
    "# We didn't test three numbers to make sure that they make a valid triangle\n",
    "# For example you could enter negative integers and still the program will run\n",
    "# How do we test three numbers to make sure they form a triangle."
   ]
  },
  {
   "cell_type": "code",
   "execution_count": 375,
   "id": "51c5b21d-b95b-4b89-836f-577572320329",
   "metadata": {
    "tags": []
   },
   "outputs": [],
   "source": [
    "# Functions\n",
    "# A function can have inputs (arguments)\n",
    "\n",
    "def fog():\n",
    "    pass\n",
    "fog()"
   ]
  },
  {
   "cell_type": "code",
   "execution_count": 377,
   "id": "99b18ae2-0104-4875-af09-29813e4bee7a",
   "metadata": {
    "tags": []
   },
   "outputs": [
    {
     "data": {
      "text/plain": [
       "<function __main__.fog()>"
      ]
     },
     "execution_count": 377,
     "metadata": {},
     "output_type": "execute_result"
    }
   ],
   "source": [
    "fog"
   ]
  },
  {
   "cell_type": "code",
   "execution_count": 379,
   "id": "8b57a843-47b3-4113-a638-947067cbccbd",
   "metadata": {
    "tags": []
   },
   "outputs": [
    {
     "data": {
      "text/plain": [
       "function"
      ]
     },
     "execution_count": 379,
     "metadata": {},
     "output_type": "execute_result"
    }
   ],
   "source": [
    "type(fog)"
   ]
  },
  {
   "cell_type": "code",
   "execution_count": 383,
   "id": "90c6f293-6104-4fa1-8d4e-12a30c33ddd9",
   "metadata": {
    "tags": []
   },
   "outputs": [
    {
     "data": {
      "text/plain": [
       "'Ping!'"
      ]
     },
     "execution_count": 383,
     "metadata": {},
     "output_type": "execute_result"
    }
   ],
   "source": [
    "def ping():\n",
    "    return \"Ping!\"\n",
    "ping()"
   ]
  },
  {
   "cell_type": "code",
   "execution_count": 385,
   "id": "a03955d4-ef76-4c6b-93ec-d98b9f0345bf",
   "metadata": {
    "tags": []
   },
   "outputs": [
    {
     "name": "stdout",
     "output_type": "stream",
     "text": [
      "Ping!\n"
     ]
    }
   ],
   "source": [
    "x = ping()\n",
    "print(x)"
   ]
  },
  {
   "cell_type": "code",
   "execution_count": 387,
   "id": "65a80071-0af9-44eb-8fde-c1ea187d5ab3",
   "metadata": {
    "tags": []
   },
   "outputs": [],
   "source": [
    " import math"
   ]
  },
  {
   "cell_type": "code",
   "execution_count": 389,
   "id": "ca9b2bdb-9c18-4dab-9af0-ae1e0211ace1",
   "metadata": {
    "tags": []
   },
   "outputs": [
    {
     "data": {
      "text/plain": [
       "['__doc__',\n",
       " '__file__',\n",
       " '__loader__',\n",
       " '__name__',\n",
       " '__package__',\n",
       " '__spec__',\n",
       " 'acos',\n",
       " 'acosh',\n",
       " 'asin',\n",
       " 'asinh',\n",
       " 'atan',\n",
       " 'atan2',\n",
       " 'atanh',\n",
       " 'cbrt',\n",
       " 'ceil',\n",
       " 'comb',\n",
       " 'copysign',\n",
       " 'cos',\n",
       " 'cosh',\n",
       " 'degrees',\n",
       " 'dist',\n",
       " 'e',\n",
       " 'erf',\n",
       " 'erfc',\n",
       " 'exp',\n",
       " 'exp2',\n",
       " 'expm1',\n",
       " 'fabs',\n",
       " 'factorial',\n",
       " 'floor',\n",
       " 'fmod',\n",
       " 'frexp',\n",
       " 'fsum',\n",
       " 'gamma',\n",
       " 'gcd',\n",
       " 'hypot',\n",
       " 'inf',\n",
       " 'isclose',\n",
       " 'isfinite',\n",
       " 'isinf',\n",
       " 'isnan',\n",
       " 'isqrt',\n",
       " 'lcm',\n",
       " 'ldexp',\n",
       " 'lgamma',\n",
       " 'log',\n",
       " 'log10',\n",
       " 'log1p',\n",
       " 'log2',\n",
       " 'modf',\n",
       " 'nan',\n",
       " 'nextafter',\n",
       " 'perm',\n",
       " 'pi',\n",
       " 'pow',\n",
       " 'prod',\n",
       " 'radians',\n",
       " 'remainder',\n",
       " 'sin',\n",
       " 'sinh',\n",
       " 'sqrt',\n",
       " 'tan',\n",
       " 'tanh',\n",
       " 'tau',\n",
       " 'trunc',\n",
       " 'ulp']"
      ]
     },
     "execution_count": 389,
     "metadata": {},
     "output_type": "execute_result"
    }
   ],
   "source": [
    "dir(math)"
   ]
  },
  {
   "cell_type": "code",
   "execution_count": 391,
   "id": "d8f15060-0370-44cc-9d82-5a8f6b54e736",
   "metadata": {
    "tags": []
   },
   "outputs": [
    {
     "name": "stdout",
     "output_type": "stream",
     "text": [
      "Help on float object:\n",
      "\n",
      "class float(object)\n",
      " |  float(x=0, /)\n",
      " |  \n",
      " |  Convert a string or number to a floating point number, if possible.\n",
      " |  \n",
      " |  Methods defined here:\n",
      " |  \n",
      " |  __abs__(self, /)\n",
      " |      abs(self)\n",
      " |  \n",
      " |  __add__(self, value, /)\n",
      " |      Return self+value.\n",
      " |  \n",
      " |  __bool__(self, /)\n",
      " |      True if self else False\n",
      " |  \n",
      " |  __ceil__(self, /)\n",
      " |      Return the ceiling as an Integral.\n",
      " |  \n",
      " |  __divmod__(self, value, /)\n",
      " |      Return divmod(self, value).\n",
      " |  \n",
      " |  __eq__(self, value, /)\n",
      " |      Return self==value.\n",
      " |  \n",
      " |  __float__(self, /)\n",
      " |      float(self)\n",
      " |  \n",
      " |  __floor__(self, /)\n",
      " |      Return the floor as an Integral.\n",
      " |  \n",
      " |  __floordiv__(self, value, /)\n",
      " |      Return self//value.\n",
      " |  \n",
      " |  __format__(self, format_spec, /)\n",
      " |      Formats the float according to format_spec.\n",
      " |  \n",
      " |  __ge__(self, value, /)\n",
      " |      Return self>=value.\n",
      " |  \n",
      " |  __getattribute__(self, name, /)\n",
      " |      Return getattr(self, name).\n",
      " |  \n",
      " |  __getnewargs__(self, /)\n",
      " |  \n",
      " |  __gt__(self, value, /)\n",
      " |      Return self>value.\n",
      " |  \n",
      " |  __hash__(self, /)\n",
      " |      Return hash(self).\n",
      " |  \n",
      " |  __int__(self, /)\n",
      " |      int(self)\n",
      " |  \n",
      " |  __le__(self, value, /)\n",
      " |      Return self<=value.\n",
      " |  \n",
      " |  __lt__(self, value, /)\n",
      " |      Return self<value.\n",
      " |  \n",
      " |  __mod__(self, value, /)\n",
      " |      Return self%value.\n",
      " |  \n",
      " |  __mul__(self, value, /)\n",
      " |      Return self*value.\n",
      " |  \n",
      " |  __ne__(self, value, /)\n",
      " |      Return self!=value.\n",
      " |  \n",
      " |  __neg__(self, /)\n",
      " |      -self\n",
      " |  \n",
      " |  __pos__(self, /)\n",
      " |      +self\n",
      " |  \n",
      " |  __pow__(self, value, mod=None, /)\n",
      " |      Return pow(self, value, mod).\n",
      " |  \n",
      " |  __radd__(self, value, /)\n",
      " |      Return value+self.\n",
      " |  \n",
      " |  __rdivmod__(self, value, /)\n",
      " |      Return divmod(value, self).\n",
      " |  \n",
      " |  __repr__(self, /)\n",
      " |      Return repr(self).\n",
      " |  \n",
      " |  __rfloordiv__(self, value, /)\n",
      " |      Return value//self.\n",
      " |  \n",
      " |  __rmod__(self, value, /)\n",
      " |      Return value%self.\n",
      " |  \n",
      " |  __rmul__(self, value, /)\n",
      " |      Return value*self.\n",
      " |  \n",
      " |  __round__(self, ndigits=None, /)\n",
      " |      Return the Integral closest to x, rounding half toward even.\n",
      " |      \n",
      " |      When an argument is passed, work like built-in round(x, ndigits).\n",
      " |  \n",
      " |  __rpow__(self, value, mod=None, /)\n",
      " |      Return pow(value, self, mod).\n",
      " |  \n",
      " |  __rsub__(self, value, /)\n",
      " |      Return value-self.\n",
      " |  \n",
      " |  __rtruediv__(self, value, /)\n",
      " |      Return value/self.\n",
      " |  \n",
      " |  __sub__(self, value, /)\n",
      " |      Return self-value.\n",
      " |  \n",
      " |  __truediv__(self, value, /)\n",
      " |      Return self/value.\n",
      " |  \n",
      " |  __trunc__(self, /)\n",
      " |      Return the Integral closest to x between 0 and x.\n",
      " |  \n",
      " |  as_integer_ratio(self, /)\n",
      " |      Return integer ratio.\n",
      " |      \n",
      " |      Return a pair of integers, whose ratio is exactly equal to the original float\n",
      " |      and with a positive denominator.\n",
      " |      \n",
      " |      Raise OverflowError on infinities and a ValueError on NaNs.\n",
      " |      \n",
      " |      >>> (10.0).as_integer_ratio()\n",
      " |      (10, 1)\n",
      " |      >>> (0.0).as_integer_ratio()\n",
      " |      (0, 1)\n",
      " |      >>> (-.25).as_integer_ratio()\n",
      " |      (-1, 4)\n",
      " |  \n",
      " |  conjugate(self, /)\n",
      " |      Return self, the complex conjugate of any float.\n",
      " |  \n",
      " |  hex(self, /)\n",
      " |      Return a hexadecimal representation of a floating-point number.\n",
      " |      \n",
      " |      >>> (-0.1).hex()\n",
      " |      '-0x1.999999999999ap-4'\n",
      " |      >>> 3.14159.hex()\n",
      " |      '0x1.921f9f01b866ep+1'\n",
      " |  \n",
      " |  is_integer(self, /)\n",
      " |      Return True if the float is an integer.\n",
      " |  \n",
      " |  ----------------------------------------------------------------------\n",
      " |  Class methods defined here:\n",
      " |  \n",
      " |  __getformat__(typestr, /) from builtins.type\n",
      " |      You probably don't want to use this function.\n",
      " |      \n",
      " |        typestr\n",
      " |          Must be 'double' or 'float'.\n",
      " |      \n",
      " |      It exists mainly to be used in Python's test suite.\n",
      " |      \n",
      " |      This function returns whichever of 'unknown', 'IEEE, big-endian' or 'IEEE,\n",
      " |      little-endian' best describes the format of floating point numbers used by the\n",
      " |      C type named by typestr.\n",
      " |  \n",
      " |  fromhex(string, /) from builtins.type\n",
      " |      Create a floating-point number from a hexadecimal string.\n",
      " |      \n",
      " |      >>> float.fromhex('0x1.ffffp10')\n",
      " |      2047.984375\n",
      " |      >>> float.fromhex('-0x1p-1074')\n",
      " |      -5e-324\n",
      " |  \n",
      " |  ----------------------------------------------------------------------\n",
      " |  Static methods defined here:\n",
      " |  \n",
      " |  __new__(*args, **kwargs) from builtins.type\n",
      " |      Create and return a new object.  See help(type) for accurate signature.\n",
      " |  \n",
      " |  ----------------------------------------------------------------------\n",
      " |  Data descriptors defined here:\n",
      " |  \n",
      " |  imag\n",
      " |      the imaginary part of a complex number\n",
      " |  \n",
      " |  real\n",
      " |      the real part of a complex number\n",
      "\n"
     ]
    }
   ],
   "source": [
    "help(math.pi)"
   ]
  },
  {
   "cell_type": "code",
   "execution_count": 393,
   "id": "fb0b9baa-0b82-4223-a57e-ee144eee5e02",
   "metadata": {
    "tags": []
   },
   "outputs": [
    {
     "data": {
      "text/plain": [
       "['__abs__',\n",
       " '__add__',\n",
       " '__bool__',\n",
       " '__ceil__',\n",
       " '__class__',\n",
       " '__delattr__',\n",
       " '__dir__',\n",
       " '__divmod__',\n",
       " '__doc__',\n",
       " '__eq__',\n",
       " '__float__',\n",
       " '__floor__',\n",
       " '__floordiv__',\n",
       " '__format__',\n",
       " '__ge__',\n",
       " '__getattribute__',\n",
       " '__getformat__',\n",
       " '__getnewargs__',\n",
       " '__getstate__',\n",
       " '__gt__',\n",
       " '__hash__',\n",
       " '__init__',\n",
       " '__init_subclass__',\n",
       " '__int__',\n",
       " '__le__',\n",
       " '__lt__',\n",
       " '__mod__',\n",
       " '__mul__',\n",
       " '__ne__',\n",
       " '__neg__',\n",
       " '__new__',\n",
       " '__pos__',\n",
       " '__pow__',\n",
       " '__radd__',\n",
       " '__rdivmod__',\n",
       " '__reduce__',\n",
       " '__reduce_ex__',\n",
       " '__repr__',\n",
       " '__rfloordiv__',\n",
       " '__rmod__',\n",
       " '__rmul__',\n",
       " '__round__',\n",
       " '__rpow__',\n",
       " '__rsub__',\n",
       " '__rtruediv__',\n",
       " '__setattr__',\n",
       " '__sizeof__',\n",
       " '__str__',\n",
       " '__sub__',\n",
       " '__subclasshook__',\n",
       " '__truediv__',\n",
       " '__trunc__',\n",
       " 'as_integer_ratio',\n",
       " 'conjugate',\n",
       " 'fromhex',\n",
       " 'hex',\n",
       " 'imag',\n",
       " 'is_integer',\n",
       " 'real']"
      ]
     },
     "execution_count": 393,
     "metadata": {},
     "output_type": "execute_result"
    }
   ],
   "source": [
    "dir(math.pi)"
   ]
  },
  {
   "cell_type": "code",
   "execution_count": 395,
   "id": "dd512c32-b5a8-423f-a4aa-68d464fc9673",
   "metadata": {
    "tags": []
   },
   "outputs": [
    {
     "data": {
      "text/plain": [
       "3.141592653589793"
      ]
     },
     "execution_count": 395,
     "metadata": {},
     "output_type": "execute_result"
    }
   ],
   "source": [
    "math.pi"
   ]
  },
  {
   "cell_type": "code",
   "execution_count": 409,
   "id": "55aec693-9ab4-4ed7-ab55-eed20988b0fe",
   "metadata": {
    "tags": []
   },
   "outputs": [],
   "source": [
    "def volume(r):\n",
    "    \"\"\"Returns the volume of the sphere with the radius r. \"\"\"\n",
    "    v = (4.0/3.0) * math.pi * math.pow(r, 3) # The same as the next line\n",
    "    # v = (4.0/3.0) * math.pi * r ** 3\n",
    "    return v"
   ]
  },
  {
   "cell_type": "code",
   "execution_count": 411,
   "id": "00913ce7-fb42-4db1-aae4-ef9f2a9b79d0",
   "metadata": {
    "tags": []
   },
   "outputs": [
    {
     "data": {
      "text/plain": [
       "33.510321638291124"
      ]
     },
     "execution_count": 411,
     "metadata": {},
     "output_type": "execute_result"
    }
   ],
   "source": [
    " volume(2)"
   ]
  },
  {
   "cell_type": "code",
   "execution_count": 413,
   "id": "633a71e3-14c0-46ab-b070-43be3f271736",
   "metadata": {
    "tags": []
   },
   "outputs": [
    {
     "name": "stdout",
     "output_type": "stream",
     "text": [
      "Help on function volume in module __main__:\n",
      "\n",
      "volume(r)\n",
      "    Returns the volume of the sphere with the radius r.\n",
      "\n"
     ]
    }
   ],
   "source": [
    "help(volume)"
   ]
  },
  {
   "cell_type": "code",
   "execution_count": 419,
   "id": "56a94238-0a1b-4b5b-893b-7bf72e162978",
   "metadata": {
    "tags": []
   },
   "outputs": [],
   "source": [
    "# We are going to compute the area of the triangle.\n",
    "def area(b, h):\n",
    "    \"\"\"Returns the area of the triangle with base b, height h\"\"\"\n",
    "    a = (1.0/2.0) * b * h\n",
    "    return a"
   ]
  },
  {
   "cell_type": "code",
   "execution_count": 421,
   "id": "4cdf42f9-4796-499f-8f56-86fe7bbab5f5",
   "metadata": {
    "tags": []
   },
   "outputs": [
    {
     "data": {
      "text/plain": [
       "12.0"
      ]
     },
     "execution_count": 421,
     "metadata": {},
     "output_type": "execute_result"
    }
   ],
   "source": [
    "area(6, 4)"
   ]
  },
  {
   "cell_type": "code",
   "execution_count": 428,
   "id": "2626a8ad-5131-4927-b0b8-24a052df5c86",
   "metadata": {
    "tags": []
   },
   "outputs": [],
   "source": [
    "# Functions can also accept to use \"Keyword Argument\"\n",
    "# Recall that 1 inch = 2.54 cm\n",
    "# Recall that 1 foot = 12 inches\n",
    "\n",
    "# We are going to write the function that converts a person's height from american units to cm"
   ]
  },
  {
   "cell_type": "code",
   "execution_count": 430,
   "id": "1ceb5dfc-a64f-4e51-ad55-90d4c2364818",
   "metadata": {
    "tags": []
   },
   "outputs": [],
   "source": [
    "# Keyword arguments are default arguments in python, they have devault values\n",
    "def cm(feet = 0, inches = 0):\n",
    "    \"\"\"Converts length from feet & inches to centimeters\"\"\"\n",
    "    inches_to_cm = inches * 2.54\n",
    "    feet_to_cm = feet * 12 * 2.54\n",
    "    return inches_to_cm + feet_to_cm"
   ]
  },
  {
   "cell_type": "code",
   "execution_count": 432,
   "id": "380654b0-6020-40c6-91ac-d3306cd952cd",
   "metadata": {
    "tags": []
   },
   "outputs": [
    {
     "data": {
      "text/plain": [
       "152.4"
      ]
     },
     "execution_count": 432,
     "metadata": {},
     "output_type": "execute_result"
    }
   ],
   "source": [
    "cm(feet = 5)"
   ]
  },
  {
   "cell_type": "code",
   "execution_count": 434,
   "id": "64ca28b8-404f-4099-bf77-c98a4538fac3",
   "metadata": {
    "tags": []
   },
   "outputs": [
    {
     "data": {
      "text/plain": [
       "177.8"
      ]
     },
     "execution_count": 434,
     "metadata": {},
     "output_type": "execute_result"
    }
   ],
   "source": [
    "cm(inches = 70)"
   ]
  },
  {
   "cell_type": "code",
   "execution_count": 436,
   "id": "d4a5d83b-c50c-4beb-adb5-da74e37f5a2f",
   "metadata": {
    "tags": []
   },
   "outputs": [
    {
     "data": {
      "text/plain": [
       "330.20000000000005"
      ]
     },
     "execution_count": 436,
     "metadata": {},
     "output_type": "execute_result"
    }
   ],
   "source": [
    "cm(feet = 5, inches = 70)"
   ]
  },
  {
   "cell_type": "code",
   "execution_count": 446,
   "id": "0714baff-7399-4679-a6c5-6e0da4ed4093",
   "metadata": {
    "tags": []
   },
   "outputs": [],
   "source": [
    "# Types of arguments\n",
    "# -> Keyword Argument -- which has equal sign\n",
    "# -> Required Argument -- Which does not have an equal sign\n",
    "\n",
    "# When writing a function, you can write both kinds of arguments,but when you do this, the keyword argument must come last.\n",
    "\n",
    "# Example"
   ]
  },
  {
   "cell_type": "code",
   "execution_count": 450,
   "id": "7252c2b9-cc92-4de1-bd47-1d62cd8ed6d3",
   "metadata": {
    "tags": []
   },
   "outputs": [
    {
     "ename": "SyntaxError",
     "evalue": "non-default argument follows default argument (2537004091.py, line 2)",
     "output_type": "error",
     "traceback": [
      "\u001b[0;36m  Cell \u001b[0;32mIn[450], line 2\u001b[0;36m\u001b[0m\n\u001b[0;31m    def g(x = 0, y):\u001b[0m\n\u001b[0m                 ^\u001b[0m\n\u001b[0;31mSyntaxError\u001b[0m\u001b[0;31m:\u001b[0m non-default argument follows default argument\n"
     ]
    }
   ],
   "source": [
    "# We shall get an error in the below function because the required argument followed the keyword argument.\n",
    "def g(x = 0, y):\n",
    "    return x + y"
   ]
  },
  {
   "cell_type": "code",
   "execution_count": 454,
   "id": "8e044630-190b-4d8a-9f54-aa613994c995",
   "metadata": {
    "tags": []
   },
   "outputs": [],
   "source": [
    "# Correction of the above example\n",
    "\n",
    "def g(y, x = 0):\n",
    "    return (x + y)"
   ]
  },
  {
   "cell_type": "code",
   "execution_count": 470,
   "id": "0f498f6e-b1ba-4675-9368-c055baf523f0",
   "metadata": {
    "tags": []
   },
   "outputs": [],
   "source": [
    "# y -> is the required argument since they are required\n",
    "# x -> is the keyword argument or default argument\n",
    "# If a keyword argument is not provided, a default value shall be used, and keyword arguments are determined by their names\n",
    "# or positions.\n",
    "# Required arguments are not given names, they are determined by their positions e.g"
   ]
  },
  {
   "cell_type": "code",
   "execution_count": 460,
   "id": "aaa9a797-9f45-4476-9138-09222d4b167a",
   "metadata": {
    "tags": []
   },
   "outputs": [
    {
     "data": {
      "text/plain": [
       "5"
      ]
     },
     "execution_count": 460,
     "metadata": {},
     "output_type": "execute_result"
    }
   ],
   "source": [
    "g(5)"
   ]
  },
  {
   "cell_type": "code",
   "execution_count": 464,
   "id": "d754a28e-9c00-4adc-9075-f60a86c9ff17",
   "metadata": {
    "tags": []
   },
   "outputs": [
    {
     "data": {
      "text/plain": [
       "10"
      ]
     },
     "execution_count": 464,
     "metadata": {},
     "output_type": "execute_result"
    }
   ],
   "source": [
    "g(5, x = 5)"
   ]
  },
  {
   "cell_type": "code",
   "execution_count": 466,
   "id": "3ea35c41-f4bd-4e2f-a71f-a218ce67c60f",
   "metadata": {
    "tags": []
   },
   "outputs": [
    {
     "data": {
      "text/plain": [
       "10"
      ]
     },
     "execution_count": 466,
     "metadata": {},
     "output_type": "execute_result"
    }
   ],
   "source": [
    "g(5, 5)"
   ]
  },
  {
   "cell_type": "code",
   "execution_count": 472,
   "id": "0249f943-275f-4dad-b912-09591b60abf7",
   "metadata": {
    "tags": []
   },
   "outputs": [
    {
     "data": {
      "text/plain": [
       "8"
      ]
     },
     "execution_count": 472,
     "metadata": {},
     "output_type": "execute_result"
    }
   ],
   "source": [
    "g(6, 2)"
   ]
  },
  {
   "cell_type": "code",
   "execution_count": 478,
   "id": "6e9fb7db-d1e3-49f6-9b8f-b22c7d9b9305",
   "metadata": {
    "tags": []
   },
   "outputs": [],
   "source": [
    "# Python Data Structures\n",
    "# Sets, Lists, Turples, Dictionaries\n",
    "# These objects help us organise our data."
   ]
  },
  {
   "cell_type": "code",
   "execution_count": 480,
   "id": "cf6ebdb1-53ba-481b-934d-abfd1380d161",
   "metadata": {
    "tags": []
   },
   "outputs": [],
   "source": [
    "# SETS"
   ]
  },
  {
   "cell_type": "code",
   "execution_count": 482,
   "id": "957d4722-6441-4b14-997d-f74ddceef234",
   "metadata": {
    "tags": []
   },
   "outputs": [],
   "source": [
    "example = set()"
   ]
  },
  {
   "cell_type": "code",
   "execution_count": 484,
   "id": "6fd9ad90-bad9-4b07-805b-db15fa1197b3",
   "metadata": {
    "tags": []
   },
   "outputs": [
    {
     "data": {
      "text/plain": [
       "['__and__',\n",
       " '__class__',\n",
       " '__class_getitem__',\n",
       " '__contains__',\n",
       " '__delattr__',\n",
       " '__dir__',\n",
       " '__doc__',\n",
       " '__eq__',\n",
       " '__format__',\n",
       " '__ge__',\n",
       " '__getattribute__',\n",
       " '__getstate__',\n",
       " '__gt__',\n",
       " '__hash__',\n",
       " '__iand__',\n",
       " '__init__',\n",
       " '__init_subclass__',\n",
       " '__ior__',\n",
       " '__isub__',\n",
       " '__iter__',\n",
       " '__ixor__',\n",
       " '__le__',\n",
       " '__len__',\n",
       " '__lt__',\n",
       " '__ne__',\n",
       " '__new__',\n",
       " '__or__',\n",
       " '__rand__',\n",
       " '__reduce__',\n",
       " '__reduce_ex__',\n",
       " '__repr__',\n",
       " '__ror__',\n",
       " '__rsub__',\n",
       " '__rxor__',\n",
       " '__setattr__',\n",
       " '__sizeof__',\n",
       " '__str__',\n",
       " '__sub__',\n",
       " '__subclasshook__',\n",
       " '__xor__',\n",
       " 'add',\n",
       " 'clear',\n",
       " 'copy',\n",
       " 'difference',\n",
       " 'difference_update',\n",
       " 'discard',\n",
       " 'intersection',\n",
       " 'intersection_update',\n",
       " 'isdisjoint',\n",
       " 'issubset',\n",
       " 'issuperset',\n",
       " 'pop',\n",
       " 'remove',\n",
       " 'symmetric_difference',\n",
       " 'symmetric_difference_update',\n",
       " 'union',\n",
       " 'update']"
      ]
     },
     "execution_count": 484,
     "metadata": {},
     "output_type": "execute_result"
    }
   ],
   "source": [
    "dir(example)"
   ]
  },
  {
   "cell_type": "code",
   "execution_count": 486,
   "id": "85f929d3-c1c2-4170-b9b5-cbddb6894689",
   "metadata": {
    "tags": []
   },
   "outputs": [
    {
     "name": "stdout",
     "output_type": "stream",
     "text": [
      "Help on built-in function add:\n",
      "\n",
      "add(...) method of builtins.set instance\n",
      "    Add an element to a set.\n",
      "    \n",
      "    This has no effect if the element is already present.\n",
      "\n"
     ]
    }
   ],
   "source": [
    "help(example.add)"
   ]
  },
  {
   "cell_type": "code",
   "execution_count": 488,
   "id": "989b51cb-445c-4c01-8da6-e77e03a472bf",
   "metadata": {
    "tags": []
   },
   "outputs": [],
   "source": [
    "example.add(42)"
   ]
  },
  {
   "cell_type": "code",
   "execution_count": 490,
   "id": "7c20ad51-0206-465e-8ee4-91416c21c1ed",
   "metadata": {
    "tags": []
   },
   "outputs": [],
   "source": [
    "example.add(False)"
   ]
  },
  {
   "cell_type": "code",
   "execution_count": 492,
   "id": "3c5957e7-df3b-4172-b86a-4ed62f2c6528",
   "metadata": {
    "tags": []
   },
   "outputs": [],
   "source": [
    "example.add('Man')"
   ]
  },
  {
   "cell_type": "code",
   "execution_count": 494,
   "id": "88474b47-9137-4a3c-bee9-1a589f7c0e18",
   "metadata": {
    "tags": []
   },
   "outputs": [],
   "source": [
    "example.add(6.0)"
   ]
  },
  {
   "cell_type": "code",
   "execution_count": 496,
   "id": "08daad72-6537-4fcf-8b4b-b719a93596db",
   "metadata": {
    "tags": []
   },
   "outputs": [],
   "source": [
    "example.add(30-3j)"
   ]
  },
  {
   "cell_type": "code",
   "execution_count": 498,
   "id": "e11c8f33-ceb3-4c57-a291-7a7a0eb047b6",
   "metadata": {
    "tags": []
   },
   "outputs": [
    {
     "data": {
      "text/plain": [
       "{(30-3j), 42, 6.0, False, 'Man'}"
      ]
     },
     "execution_count": 498,
     "metadata": {},
     "output_type": "execute_result"
    }
   ],
   "source": [
    "example"
   ]
  },
  {
   "cell_type": "code",
   "execution_count": 500,
   "id": "e5d04769-3c85-4a4d-bcb6-9167bd948678",
   "metadata": {
    "tags": []
   },
   "outputs": [],
   "source": [
    "example.add(42)"
   ]
  },
  {
   "cell_type": "code",
   "execution_count": 502,
   "id": "9578659b-30f0-4238-a14c-cc3c2abaa102",
   "metadata": {
    "tags": []
   },
   "outputs": [
    {
     "data": {
      "text/plain": [
       "{(30-3j), 42, 6.0, False, 'Man'}"
      ]
     },
     "execution_count": 502,
     "metadata": {},
     "output_type": "execute_result"
    }
   ],
   "source": [
    "example"
   ]
  },
  {
   "cell_type": "code",
   "execution_count": 504,
   "id": "8202f33b-51d5-4ad1-b05d-69e3dc66a4f9",
   "metadata": {
    "tags": []
   },
   "outputs": [],
   "source": [
    "# A set cannot contain duplicate elements\n",
    "# In sets the order does not matter\n",
    "# A set can hold different data types"
   ]
  },
  {
   "cell_type": "code",
   "execution_count": 506,
   "id": "2740eb82-6ee9-4dfe-b21a-741c2d735585",
   "metadata": {
    "tags": []
   },
   "outputs": [
    {
     "data": {
      "text/plain": [
       "5"
      ]
     },
     "execution_count": 506,
     "metadata": {},
     "output_type": "execute_result"
    }
   ],
   "source": [
    "len(example)"
   ]
  },
  {
   "cell_type": "code",
   "execution_count": 508,
   "id": "1b96a7bf-e51e-4135-ab37-062b60c115e0",
   "metadata": {
    "tags": []
   },
   "outputs": [
    {
     "name": "stdout",
     "output_type": "stream",
     "text": [
      "Help on built-in function remove:\n",
      "\n",
      "remove(...) method of builtins.set instance\n",
      "    Remove an element from a set; it must be a member.\n",
      "    \n",
      "    If the element is not a member, raise a KeyError.\n",
      "\n"
     ]
    }
   ],
   "source": [
    "help(example.remove)"
   ]
  },
  {
   "cell_type": "code",
   "execution_count": 510,
   "id": "a367e1f4-d14a-4b80-9d83-41649da6f34c",
   "metadata": {
    "tags": []
   },
   "outputs": [],
   "source": [
    "example.remove(42)"
   ]
  },
  {
   "cell_type": "code",
   "execution_count": 512,
   "id": "5a0c73cb-1821-46c4-bfbd-61dc4befb75d",
   "metadata": {
    "tags": []
   },
   "outputs": [
    {
     "data": {
      "text/plain": [
       "{(30-3j), 6.0, False, 'Man'}"
      ]
     },
     "execution_count": 512,
     "metadata": {},
     "output_type": "execute_result"
    }
   ],
   "source": [
    "example"
   ]
  },
  {
   "cell_type": "code",
   "execution_count": 516,
   "id": "5d627898-1e20-4ebf-9f1f-9d37a208d52c",
   "metadata": {
    "tags": []
   },
   "outputs": [
    {
     "data": {
      "text/plain": [
       "4"
      ]
     },
     "execution_count": 516,
     "metadata": {},
     "output_type": "execute_result"
    }
   ],
   "source": [
    "len(example)"
   ]
  },
  {
   "cell_type": "code",
   "execution_count": 518,
   "id": "911ac4c9-3bc0-470e-bcd4-76b44979ab7c",
   "metadata": {
    "tags": []
   },
   "outputs": [
    {
     "ename": "KeyError",
     "evalue": "50",
     "output_type": "error",
     "traceback": [
      "\u001b[0;31m---------------------------------------------------------------------------\u001b[0m",
      "\u001b[0;31mKeyError\u001b[0m                                  Traceback (most recent call last)",
      "Cell \u001b[0;32mIn[518], line 1\u001b[0m\n\u001b[0;32m----> 1\u001b[0m example\u001b[38;5;241m.\u001b[39mremove(\u001b[38;5;241m50\u001b[39m)\n",
      "\u001b[0;31mKeyError\u001b[0m: 50"
     ]
    }
   ],
   "source": [
    "example.remove(50)"
   ]
  },
  {
   "cell_type": "code",
   "execution_count": 530,
   "id": "8409cef7-4686-4d16-9d45-4cf6b7287e5e",
   "metadata": {
    "tags": []
   },
   "outputs": [],
   "source": [
    "# A set shall throw an error if you try to remove a non member element in the set.\n",
    "# See the above example for reference.\n",
    "\n",
    "# There is a second way of removing the element from the set using the discard method."
   ]
  },
  {
   "cell_type": "code",
   "execution_count": 528,
   "id": "38040642-3f64-4aff-bdc2-91eca16c4a9a",
   "metadata": {
    "tags": []
   },
   "outputs": [
    {
     "name": "stdout",
     "output_type": "stream",
     "text": [
      "Help on built-in function discard:\n",
      "\n",
      "discard(...) method of builtins.set instance\n",
      "    Remove an element from a set if it is a member.\n",
      "    \n",
      "    Unlike set.remove(), the discard() method does not raise\n",
      "    an exception when an element is missing from the set.\n",
      "\n"
     ]
    }
   ],
   "source": [
    "help(example.discard)"
   ]
  },
  {
   "cell_type": "code",
   "execution_count": 534,
   "id": "3600f393-a2f7-4cb2-b5a6-2183831686cd",
   "metadata": {
    "tags": []
   },
   "outputs": [],
   "source": [
    "example.add(100)"
   ]
  },
  {
   "cell_type": "code",
   "execution_count": 536,
   "id": "f657969e-8940-4074-85b4-bf136be2cc5c",
   "metadata": {
    "tags": []
   },
   "outputs": [
    {
     "data": {
      "text/plain": [
       "5"
      ]
     },
     "execution_count": 536,
     "metadata": {},
     "output_type": "execute_result"
    }
   ],
   "source": [
    "len(example)"
   ]
  },
  {
   "cell_type": "code",
   "execution_count": 538,
   "id": "cacf77a1-4017-4227-9a77-9da92232c217",
   "metadata": {
    "tags": []
   },
   "outputs": [
    {
     "data": {
      "text/plain": [
       "{(30-3j), 100, 6.0, False, 'Man'}"
      ]
     },
     "execution_count": 538,
     "metadata": {},
     "output_type": "execute_result"
    }
   ],
   "source": [
    "example"
   ]
  },
  {
   "cell_type": "code",
   "execution_count": 540,
   "id": "f58e6bb8-c14b-42d3-bc92-b949acacc095",
   "metadata": {
    "tags": []
   },
   "outputs": [],
   "source": [
    "example.add(True)"
   ]
  },
  {
   "cell_type": "code",
   "execution_count": 542,
   "id": "21145e72-e9f8-455d-9053-08136ed77066",
   "metadata": {
    "tags": []
   },
   "outputs": [
    {
     "data": {
      "text/plain": [
       "6"
      ]
     },
     "execution_count": 542,
     "metadata": {},
     "output_type": "execute_result"
    }
   ],
   "source": [
    "len(example)"
   ]
  },
  {
   "cell_type": "code",
   "execution_count": 544,
   "id": "177c9c46-b9bf-4370-a3b2-13f180325c67",
   "metadata": {
    "tags": []
   },
   "outputs": [],
   "source": [
    "example.discard(False)"
   ]
  },
  {
   "cell_type": "code",
   "execution_count": 546,
   "id": "f8b15dfd-9aa1-41e5-922d-e2251a39bd03",
   "metadata": {
    "tags": []
   },
   "outputs": [
    {
     "data": {
      "text/plain": [
       "5"
      ]
     },
     "execution_count": 546,
     "metadata": {},
     "output_type": "execute_result"
    }
   ],
   "source": [
    "len(example)"
   ]
  },
  {
   "cell_type": "code",
   "execution_count": 548,
   "id": "0a849f90-5999-48e9-b510-046fbbc37647",
   "metadata": {
    "tags": []
   },
   "outputs": [
    {
     "data": {
      "text/plain": [
       "{(30-3j), 100, 6.0, 'Man', True}"
      ]
     },
     "execution_count": 548,
     "metadata": {},
     "output_type": "execute_result"
    }
   ],
   "source": [
    "example"
   ]
  },
  {
   "cell_type": "code",
   "execution_count": 550,
   "id": "69c8eb78-cec7-474b-9dfe-5fae342674b0",
   "metadata": {
    "tags": []
   },
   "outputs": [],
   "source": [
    "# The discard method will not do anything if you try to remove an element that does not exist in the set"
   ]
  },
  {
   "cell_type": "code",
   "execution_count": 552,
   "id": "3dfe7dce-d8d7-4172-ae9c-55544ee56f0f",
   "metadata": {
    "tags": []
   },
   "outputs": [],
   "source": [
    "example.discard(False)"
   ]
  },
  {
   "cell_type": "code",
   "execution_count": 554,
   "id": "7c62ebdd-4de2-4bc3-bad1-4f5994b40e0c",
   "metadata": {
    "tags": []
   },
   "outputs": [],
   "source": [
    "# Second way to create a set is by populating it with the elements on creation time."
   ]
  },
  {
   "cell_type": "code",
   "execution_count": 556,
   "id": "a21e8d2a-b3fd-4e88-8694-25d22ccee981",
   "metadata": {
    "tags": []
   },
   "outputs": [],
   "source": [
    "example1 = set([28, True, 'Muganda', (50+6j), 3.14])"
   ]
  },
  {
   "cell_type": "code",
   "execution_count": 558,
   "id": "b7c52233-34c0-4c38-80da-f01af8a7b637",
   "metadata": {
    "tags": []
   },
   "outputs": [
    {
     "data": {
      "text/plain": [
       "{(50+6j), 28, 3.14, 'Muganda', True}"
      ]
     },
     "execution_count": 558,
     "metadata": {},
     "output_type": "execute_result"
    }
   ],
   "source": [
    "example1"
   ]
  },
  {
   "cell_type": "code",
   "execution_count": 560,
   "id": "6b153fd7-12b3-4c54-958d-10caed17b243",
   "metadata": {
    "tags": []
   },
   "outputs": [],
   "source": [
    "# There is a faster way to remove elements from the set, it will empty the whole set at once."
   ]
  },
  {
   "cell_type": "code",
   "execution_count": 562,
   "id": "6c05863f-6f1b-4494-b5f2-537a6c62c05a",
   "metadata": {
    "tags": []
   },
   "outputs": [],
   "source": [
    "example1.clear()"
   ]
  },
  {
   "cell_type": "code",
   "execution_count": 564,
   "id": "3e254768-ca46-4b91-8a0c-8a297f071368",
   "metadata": {
    "tags": []
   },
   "outputs": [
    {
     "data": {
      "text/plain": [
       "0"
      ]
     },
     "execution_count": 564,
     "metadata": {},
     "output_type": "execute_result"
    }
   ],
   "source": [
    "len(example1)"
   ]
  },
  {
   "cell_type": "code",
   "execution_count": 566,
   "id": "b69adb98-7855-4b12-9fd6-3621d8621237",
   "metadata": {
    "tags": []
   },
   "outputs": [],
   "source": [
    "# Evaluation of the union and the intersection of two sets"
   ]
  },
  {
   "cell_type": "code",
   "execution_count": null,
   "id": "3a28ef63-e815-4bc1-a8ec-9cc53248f995",
   "metadata": {},
   "outputs": [],
   "source": []
  }
 ],
 "metadata": {
  "kernelspec": {
   "display_name": "Python 3 (ipykernel)",
   "language": "python",
   "name": "python3"
  },
  "language_info": {
   "codemirror_mode": {
    "name": "ipython",
    "version": 3
   },
   "file_extension": ".py",
   "mimetype": "text/x-python",
   "name": "python",
   "nbconvert_exporter": "python",
   "pygments_lexer": "ipython3",
   "version": "3.11.7"
  }
 },
 "nbformat": 4,
 "nbformat_minor": 5
}
